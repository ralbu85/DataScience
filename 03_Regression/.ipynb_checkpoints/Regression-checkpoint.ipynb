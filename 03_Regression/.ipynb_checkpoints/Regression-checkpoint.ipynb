{
 "cells": [
  {
   "cell_type": "markdown",
   "metadata": {},
   "source": [
    "* 데이터 (소형, 중형, 대형)\n",
    "\n",
    "* 소형\n",
    "* 소형 데이터 만들기\n",
    "* 소형 데이터 학습\n",
    "* 계수확인 \n",
    "* 정확도 측정\n"
   ]
  },
  {
   "cell_type": "code",
   "execution_count": 1,
   "metadata": {},
   "outputs": [],
   "source": [
    "%matplotlib inline"
   ]
  },
  {
   "cell_type": "markdown",
   "metadata": {},
   "source": [
    "## 1차회귀"
   ]
  },
  {
   "cell_type": "code",
   "execution_count": 2,
   "metadata": {},
   "outputs": [],
   "source": [
    "import numpy as np\n",
    "import pandas as pd\n",
    "import matplotlib.pyplot as plt"
   ]
  },
  {
   "cell_type": "code",
   "execution_count": 3,
   "metadata": {},
   "outputs": [],
   "source": [
    "true_w = 2\n",
    "true_b = -3\n",
    "X = np.random.normal(scale=1, size=200)"
   ]
  },
  {
   "cell_type": "code",
   "execution_count": 4,
   "metadata": {},
   "outputs": [
    {
     "data": {
      "text/plain": [
       "array([ 0.11703131, -0.05961202, -0.96588427,  1.02590035, -0.73744992,\n",
       "       -1.0936725 ,  0.61732051, -0.4046398 ,  0.76207722, -0.14087736,\n",
       "       -0.00866347,  1.45784459,  1.00434978,  0.39189741,  0.42585665,\n",
       "        1.7918579 , -1.29005792, -1.54106899,  0.20574823,  2.69922799,\n",
       "        0.05290283,  0.56265953,  1.13255649, -0.28496794, -0.50645461,\n",
       "        0.32948809,  0.68570142, -0.30677497, -0.22689579, -0.37280648,\n",
       "        0.35094794, -0.82892822, -0.66852469,  0.86298272, -0.74437868,\n",
       "       -0.3741388 , -1.31494183, -0.58213585, -2.3451525 ,  2.24671394,\n",
       "       -1.19233881, -0.5676688 , -2.11486708,  0.99338057, -0.490619  ,\n",
       "        0.2396149 ,  0.04055253,  0.66151391,  0.05496725,  2.36674334,\n",
       "        0.74275366, -0.44196042, -0.22660337,  1.13446739, -1.80150341,\n",
       "       -0.70026215,  0.28228991, -1.33701455, -0.5300998 ,  0.29989418,\n",
       "        0.02881638, -0.0841096 , -0.17726528, -1.36953823,  0.11889102,\n",
       "       -1.59530162, -0.18272351,  0.30232914, -1.59109569, -0.55341835,\n",
       "        0.9039679 ,  0.256819  , -0.40709521,  2.13619171,  0.66821729,\n",
       "        0.82046943, -1.77483113,  1.87879971,  0.12997541,  1.65921671,\n",
       "        1.60243304, -0.17164452,  1.07163383,  1.2966718 ,  0.08455536,\n",
       "        0.53345035, -0.76769456, -0.50697066,  0.24678514, -0.33095876,\n",
       "        1.56352827,  0.98841405, -1.7881203 ,  0.21947987, -2.1725492 ,\n",
       "        0.11301776,  0.88421741,  1.37041491,  0.18084386,  1.34250087,\n",
       "        0.21041741,  1.24840869, -1.61391407, -0.48418895,  0.34364683,\n",
       "       -0.96439916,  1.33116853,  0.63333364,  0.40965933,  1.19433269,\n",
       "       -0.07743891, -1.08357083,  0.34486113,  0.78442887,  0.27651537,\n",
       "        0.64727981,  1.33892927, -1.50510564, -1.16999934, -0.94069035,\n",
       "       -0.19421254, -1.71074423,  1.92872787,  0.391317  , -1.0570802 ,\n",
       "        0.36574286, -0.12895271, -0.24118688,  0.43609374,  1.06618164,\n",
       "       -0.15653334,  2.21565192,  0.23525535,  0.96228876,  2.34876273,\n",
       "       -1.41902774,  2.60679819, -1.28330815,  1.24421683, -0.92804255,\n",
       "        1.17949749, -0.63757146, -0.19398787, -0.61847225,  0.89684065,\n",
       "       -0.49438875, -1.64781981, -0.55973461,  1.99721042, -0.36570901,\n",
       "        0.41722465, -0.21760354, -0.72274736, -0.99431885,  1.72791102,\n",
       "       -1.46534033,  0.51801416,  0.082108  , -0.15980367,  2.33398722,\n",
       "       -0.13094573,  2.26960122, -1.40125596,  1.90832031, -0.16387621,\n",
       "       -1.21868878,  1.49843452, -0.21434578,  0.36322682, -1.44104032,\n",
       "       -1.00511706,  0.52613243, -3.19249824, -0.37539093,  0.30161213,\n",
       "        0.16328155,  0.12830974,  1.2962395 , -0.96751224,  0.76683424,\n",
       "        0.2815717 ,  0.01573748, -0.09621348,  0.2755144 ,  0.13337173,\n",
       "       -0.35814413, -0.29541025, -0.98552974, -0.58024934,  0.73374366,\n",
       "        1.06429952,  0.43004565,  0.22357038, -0.27170365, -0.34128116,\n",
       "       -0.44492213, -1.23049621, -1.0076623 ,  0.80233502, -0.7363148 ])"
      ]
     },
     "execution_count": 4,
     "metadata": {},
     "output_type": "execute_result"
    }
   ],
   "source": [
    "X"
   ]
  },
  {
   "cell_type": "code",
   "execution_count": 5,
   "metadata": {},
   "outputs": [
    {
     "data": {
      "text/plain": [
       "array([-2.72443940e+00, -3.63538561e+00, -4.70952108e+00, -6.21735459e-01,\n",
       "       -4.65447023e+00, -5.84076036e+00, -1.53413743e+00, -3.86257588e+00,\n",
       "       -1.43673155e+00, -3.20442831e+00, -2.88778649e+00, -2.65502250e-01,\n",
       "       -7.84129221e-01, -1.98019241e+00, -1.53979204e+00,  1.12552981e+00,\n",
       "       -5.62067669e+00, -5.81034731e+00, -2.28874424e+00,  3.05167945e+00,\n",
       "       -2.43870259e+00, -2.11060211e+00, -4.96694218e-01, -4.15211916e+00,\n",
       "       -3.66047340e+00, -2.34117893e+00, -1.27446564e+00, -3.50354974e+00,\n",
       "       -3.36944078e+00, -3.57877808e+00, -2.73079133e+00, -5.70058776e+00,\n",
       "       -4.69288654e+00, -9.36856906e-01, -4.00763691e+00, -3.99158271e+00,\n",
       "       -5.51493600e+00, -5.16151016e+00, -8.16595706e+00,  2.09597224e+00,\n",
       "       -5.23714439e+00, -4.22724210e+00, -7.28128983e+00, -8.71664321e-01,\n",
       "       -4.57220658e+00, -2.44945337e+00, -3.16825827e+00, -1.99220817e+00,\n",
       "       -2.54654739e+00,  2.77915891e+00, -1.72759794e+00, -3.06620283e+00,\n",
       "       -2.07971406e+00, -1.23797860e+00, -6.33130452e+00, -5.88790554e+00,\n",
       "       -2.41447630e+00, -5.81295608e+00, -4.32878562e+00, -2.50044627e+00,\n",
       "       -3.03677138e+00, -3.22760830e+00, -3.82077354e+00, -6.14115643e+00,\n",
       "       -1.93223956e+00, -6.69543314e+00, -3.65882343e+00, -3.06173739e+00,\n",
       "       -6.94432011e+00, -5.03587767e+00, -4.35517936e-01, -3.03554712e+00,\n",
       "       -3.30000471e+00,  1.07800394e+00, -1.64594180e+00, -1.17158483e+00,\n",
       "       -6.82722851e+00,  8.09023242e-01, -2.77370715e+00,  9.23482165e-01,\n",
       "        5.06334472e-01, -3.17983574e+00, -8.34115138e-01, -6.87692849e-01,\n",
       "       -2.51898504e+00, -1.89826966e+00, -4.90502358e+00, -4.30933852e+00,\n",
       "       -1.52520688e+00, -4.12823799e+00,  8.78033454e-01, -1.24313217e+00,\n",
       "       -6.01505113e+00, -2.98568800e+00, -8.05983719e+00, -2.60543685e+00,\n",
       "       -9.98793927e-01,  6.32281366e-01, -2.96442275e+00,  1.30536397e+00,\n",
       "       -3.20194117e+00,  4.60448911e-01, -5.74282598e+00, -4.35060319e+00,\n",
       "       -1.26254652e+00, -4.87558675e+00,  9.37462108e-03, -1.13869527e+00,\n",
       "       -2.51545792e+00, -5.88683704e-01, -2.72897261e+00, -5.18988021e+00,\n",
       "       -2.26568785e+00, -2.07315736e+00, -1.66074039e+00, -2.03719151e+00,\n",
       "       -2.27965127e-01, -7.08440325e+00, -5.33057865e+00, -4.89079193e+00,\n",
       "       -3.04337558e+00, -5.87089261e+00,  5.76814510e-01, -2.64278752e+00,\n",
       "       -4.63630066e+00, -2.26244662e+00, -2.96526408e+00, -4.23325355e+00,\n",
       "       -2.81464674e+00, -1.74566468e+00, -3.38022994e+00,  1.51564031e+00,\n",
       "       -2.41957621e+00, -1.04658968e+00,  1.80297566e+00, -5.41776771e+00,\n",
       "        2.04235881e+00, -6.39530056e+00, -1.06277750e+00, -4.74472162e+00,\n",
       "       -1.24234802e+00, -4.25409059e+00, -3.58430763e+00, -3.77693369e+00,\n",
       "       -1.18912482e+00, -4.51640382e+00, -6.39242286e+00, -3.42776542e+00,\n",
       "        9.07444138e-01, -3.25417013e+00, -3.32063907e+00, -3.36934105e+00,\n",
       "       -3.99063986e+00, -4.61881430e+00,  2.54803737e-01, -5.79629005e+00,\n",
       "       -1.64148874e+00, -1.75331053e+00, -2.70465896e+00,  1.74411255e+00,\n",
       "       -3.61802383e+00,  1.35291638e+00, -6.32301897e+00,  3.60586644e-01,\n",
       "       -3.45978387e+00, -5.26644427e+00, -9.00269733e-01, -3.45793271e+00,\n",
       "       -2.69352912e+00, -5.82966052e+00, -5.40201918e+00, -1.85804423e+00,\n",
       "       -9.68049239e+00, -3.55945685e+00, -2.68994881e+00, -3.42121975e+00,\n",
       "       -2.05887970e+00, -8.46862405e-01, -5.42219522e+00, -2.15090056e+00,\n",
       "       -2.39022420e+00, -2.91036131e+00, -3.67274129e+00, -2.68770117e+00,\n",
       "       -3.57438553e+00, -3.35769882e+00, -3.86047299e+00, -5.42503941e+00,\n",
       "       -4.80303059e+00, -8.98197137e-01, -1.11963462e+00, -2.74376663e+00,\n",
       "       -2.69122860e+00, -3.24268429e+00, -3.44481215e+00, -3.55565110e+00,\n",
       "       -5.77568490e+00, -5.37279991e+00, -2.01823168e+00, -4.77345627e+00])"
      ]
     },
     "execution_count": 5,
     "metadata": {},
     "output_type": "execute_result"
    }
   ],
   "source": [
    "y = np.dot(true_w,X)+true_b\n",
    "y += np.random.normal(scale=0.5, size=200)\n",
    "y"
   ]
  },
  {
   "cell_type": "code",
   "execution_count": 6,
   "metadata": {},
   "outputs": [
    {
     "data": {
      "text/plain": [
       "<matplotlib.collections.PathCollection at 0x23097970e80>"
      ]
     },
     "execution_count": 6,
     "metadata": {},
     "output_type": "execute_result"
    },
    {
     "data": {
      "image/png": "[encoded data removed]",
      "text/plain": [
       "<Figure size 432x288 with 1 Axes>"
      ]
     },
     "metadata": {
      "needs_background": "light"
     },
     "output_type": "display_data"
    }
   ],
   "source": [
    "plt.scatter(X,y)"
   ]
  },
  {
   "cell_type": "markdown",
   "metadata": {},
   "source": [
    "## scikit-learn 사용순서"
   ]
  },
  {
   "cell_type": "code",
   "execution_count": 7,
   "metadata": {},
   "outputs": [],
   "source": [
    "from sklearn.linear_model import LinearRegression"
   ]
  },
  {
   "cell_type": "code",
   "execution_count": 8,
   "metadata": {},
   "outputs": [],
   "source": [
    "# 학습할 객체를 생성한다\n",
    "reg=LinearRegression()"
   ]
  },
  {
   "cell_type": "code",
   "execution_count": 9,
   "metadata": {
    "collapsed": true,
    "jupyter": {
     "outputs_hidden": true
    }
   },
   "outputs": [
    {
     "ename": "ValueError",
     "evalue": "Expected 2D array, got 1D array instead:\narray=[ 0.11703131 -0.05961202 -0.96588427  1.02590035 -0.73744992 -1.0936725\n  0.61732051 -0.4046398   0.76207722 -0.14087736 -0.00866347  1.45784459\n  1.00434978  0.39189741  0.42585665  1.7918579  -1.29005792 -1.54106899\n  0.20574823  2.69922799  0.05290283  0.56265953  1.13255649 -0.28496794\n -0.50645461  0.32948809  0.68570142 -0.30677497 -0.22689579 -0.37280648\n  0.35094794 -0.82892822 -0.66852469  0.86298272 -0.74437868 -0.3741388\n -1.31494183 -0.58213585 -2.3451525   2.24671394 -1.19233881 -0.5676688\n -2.11486708  0.99338057 -0.490619    0.2396149   0.04055253  0.66151391\n  0.05496725  2.36674334  0.74275366 -0.44196042 -0.22660337  1.13446739\n -1.80150341 -0.70026215  0.28228991 -1.33701455 -0.5300998   0.29989418\n  0.02881638 -0.0841096  -0.17726528 -1.36953823  0.11889102 -1.59530162\n -0.18272351  0.30232914 -1.59109569 -0.55341835  0.9039679   0.256819\n -0.40709521  2.13619171  0.66821729  0.82046943 -1.77483113  1.87879971\n  0.12997541  1.65921671  1.60243304 -0.17164452  1.07163383  1.2966718\n  0.08455536  0.53345035 -0.76769456 -0.50697066  0.24678514 -0.33095876\n  1.56352827  0.98841405 -1.7881203   0.21947987 -2.1725492   0.11301776\n  0.88421741  1.37041491  0.18084386  1.34250087  0.21041741  1.24840869\n -1.61391407 -0.48418895  0.34364683 -0.96439916  1.33116853  0.63333364\n  0.40965933  1.19433269 -0.07743891 -1.08357083  0.34486113  0.78442887\n  0.27651537  0.64727981  1.33892927 -1.50510564 -1.16999934 -0.94069035\n -0.19421254 -1.71074423  1.92872787  0.391317   -1.0570802   0.36574286\n -0.12895271 -0.24118688  0.43609374  1.06618164 -0.15653334  2.21565192\n  0.23525535  0.96228876  2.34876273 -1.41902774  2.60679819 -1.28330815\n  1.24421683 -0.92804255  1.17949749 -0.63757146 -0.19398787 -0.61847225\n  0.89684065 -0.49438875 -1.64781981 -0.55973461  1.99721042 -0.36570901\n  0.41722465 -0.21760354 -0.72274736 -0.99431885  1.72791102 -1.46534033\n  0.51801416  0.082108   -0.15980367  2.33398722 -0.13094573  2.26960122\n -1.40125596  1.90832031 -0.16387621 -1.21868878  1.49843452 -0.21434578\n  0.36322682 -1.44104032 -1.00511706  0.52613243 -3.19249824 -0.37539093\n  0.30161213  0.16328155  0.12830974  1.2962395  -0.96751224  0.76683424\n  0.2815717   0.01573748 -0.09621348  0.2755144   0.13337173 -0.35814413\n -0.29541025 -0.98552974 -0.58024934  0.73374366  1.06429952  0.43004565\n  0.22357038 -0.27170365 -0.34128116 -0.44492213 -1.23049621 -1.0076623\n  0.80233502 -0.7363148 ].\nReshape your data either using array.reshape(-1, 1) if your data has a single feature or array.reshape(1, -1) if it contains a single sample.",
     "output_type": "error",
     "traceback": [
      "\u001b[1;31m---------------------------------------------------------------------------\u001b[0m",
      "\u001b[1;31mValueError\u001b[0m                                Traceback (most recent call last)",
      "\u001b[1;32m<ipython-input-9-46d5293be80c>\u001b[0m in \u001b[0;36m<module>\u001b[1;34m\u001b[0m\n\u001b[0;32m      1\u001b[0m \u001b[1;31m# 학습한다.\u001b[0m\u001b[1;33m\u001b[0m\u001b[1;33m\u001b[0m\u001b[1;33m\u001b[0m\u001b[0m\n\u001b[1;32m----> 2\u001b[1;33m \u001b[0mreg\u001b[0m\u001b[1;33m.\u001b[0m\u001b[0mfit\u001b[0m\u001b[1;33m(\u001b[0m\u001b[0mX\u001b[0m\u001b[1;33m,\u001b[0m\u001b[0my\u001b[0m\u001b[1;33m)\u001b[0m \u001b[1;31m#에러가 날 것이다.\u001b[0m\u001b[1;33m\u001b[0m\u001b[1;33m\u001b[0m\u001b[0m\n\u001b[0m",
      "\u001b[1;32m~\\Miniconda3\\lib\\site-packages\\sklearn\\linear_model\\base.py\u001b[0m in \u001b[0;36mfit\u001b[1;34m(self, X, y, sample_weight)\u001b[0m\n\u001b[0;32m    461\u001b[0m         \u001b[0mn_jobs_\u001b[0m \u001b[1;33m=\u001b[0m \u001b[0mself\u001b[0m\u001b[1;33m.\u001b[0m\u001b[0mn_jobs\u001b[0m\u001b[1;33m\u001b[0m\u001b[1;33m\u001b[0m\u001b[0m\n\u001b[0;32m    462\u001b[0m         X, y = check_X_y(X, y, accept_sparse=['csr', 'csc', 'coo'],\n\u001b[1;32m--> 463\u001b[1;33m                          y_numeric=True, multi_output=True)\n\u001b[0m\u001b[0;32m    464\u001b[0m \u001b[1;33m\u001b[0m\u001b[0m\n\u001b[0;32m    465\u001b[0m         \u001b[1;32mif\u001b[0m \u001b[0msample_weight\u001b[0m \u001b[1;32mis\u001b[0m \u001b[1;32mnot\u001b[0m \u001b[1;32mNone\u001b[0m \u001b[1;32mand\u001b[0m \u001b[0mnp\u001b[0m\u001b[1;33m.\u001b[0m\u001b[0matleast_1d\u001b[0m\u001b[1;33m(\u001b[0m\u001b[0msample_weight\u001b[0m\u001b[1;33m)\u001b[0m\u001b[1;33m.\u001b[0m\u001b[0mndim\u001b[0m \u001b[1;33m>\u001b[0m \u001b[1;36m1\u001b[0m\u001b[1;33m:\u001b[0m\u001b[1;33m\u001b[0m\u001b[1;33m\u001b[0m\u001b[0m\n",
      "\u001b[1;32m~\\Miniconda3\\lib\\site-packages\\sklearn\\utils\\validation.py\u001b[0m in \u001b[0;36mcheck_X_y\u001b[1;34m(X, y, accept_sparse, accept_large_sparse, dtype, order, copy, force_all_finite, ensure_2d, allow_nd, multi_output, ensure_min_samples, ensure_min_features, y_numeric, warn_on_dtype, estimator)\u001b[0m\n\u001b[0;32m    717\u001b[0m                     \u001b[0mensure_min_features\u001b[0m\u001b[1;33m=\u001b[0m\u001b[0mensure_min_features\u001b[0m\u001b[1;33m,\u001b[0m\u001b[1;33m\u001b[0m\u001b[1;33m\u001b[0m\u001b[0m\n\u001b[0;32m    718\u001b[0m                     \u001b[0mwarn_on_dtype\u001b[0m\u001b[1;33m=\u001b[0m\u001b[0mwarn_on_dtype\u001b[0m\u001b[1;33m,\u001b[0m\u001b[1;33m\u001b[0m\u001b[1;33m\u001b[0m\u001b[0m\n\u001b[1;32m--> 719\u001b[1;33m                     estimator=estimator)\n\u001b[0m\u001b[0;32m    720\u001b[0m     \u001b[1;32mif\u001b[0m \u001b[0mmulti_output\u001b[0m\u001b[1;33m:\u001b[0m\u001b[1;33m\u001b[0m\u001b[1;33m\u001b[0m\u001b[0m\n\u001b[0;32m    721\u001b[0m         y = check_array(y, 'csr', force_all_finite=True, ensure_2d=False,\n",
      "\u001b[1;32m~\\Miniconda3\\lib\\site-packages\\sklearn\\utils\\validation.py\u001b[0m in \u001b[0;36mcheck_array\u001b[1;34m(array, accept_sparse, accept_large_sparse, dtype, order, copy, force_all_finite, ensure_2d, allow_nd, ensure_min_samples, ensure_min_features, warn_on_dtype, estimator)\u001b[0m\n\u001b[0;32m    519\u001b[0m                     \u001b[1;34m\"Reshape your data either using array.reshape(-1, 1) if \"\u001b[0m\u001b[1;33m\u001b[0m\u001b[1;33m\u001b[0m\u001b[0m\n\u001b[0;32m    520\u001b[0m                     \u001b[1;34m\"your data has a single feature or array.reshape(1, -1) \"\u001b[0m\u001b[1;33m\u001b[0m\u001b[1;33m\u001b[0m\u001b[0m\n\u001b[1;32m--> 521\u001b[1;33m                     \"if it contains a single sample.\".format(array))\n\u001b[0m\u001b[0;32m    522\u001b[0m \u001b[1;33m\u001b[0m\u001b[0m\n\u001b[0;32m    523\u001b[0m         \u001b[1;31m# in the future np.flexible dtypes will be handled like object dtypes\u001b[0m\u001b[1;33m\u001b[0m\u001b[1;33m\u001b[0m\u001b[1;33m\u001b[0m\u001b[0m\n",
      "\u001b[1;31mValueError\u001b[0m: Expected 2D array, got 1D array instead:\narray=[ 0.11703131 -0.05961202 -0.96588427  1.02590035 -0.73744992 -1.0936725\n  0.61732051 -0.4046398   0.76207722 -0.14087736 -0.00866347  1.45784459\n  1.00434978  0.39189741  0.42585665  1.7918579  -1.29005792 -1.54106899\n  0.20574823  2.69922799  0.05290283  0.56265953  1.13255649 -0.28496794\n -0.50645461  0.32948809  0.68570142 -0.30677497 -0.22689579 -0.37280648\n  0.35094794 -0.82892822 -0.66852469  0.86298272 -0.74437868 -0.3741388\n -1.31494183 -0.58213585 -2.3451525   2.24671394 -1.19233881 -0.5676688\n -2.11486708  0.99338057 -0.490619    0.2396149   0.04055253  0.66151391\n  0.05496725  2.36674334  0.74275366 -0.44196042 -0.22660337  1.13446739\n -1.80150341 -0.70026215  0.28228991 -1.33701455 -0.5300998   0.29989418\n  0.02881638 -0.0841096  -0.17726528 -1.36953823  0.11889102 -1.59530162\n -0.18272351  0.30232914 -1.59109569 -0.55341835  0.9039679   0.256819\n -0.40709521  2.13619171  0.66821729  0.82046943 -1.77483113  1.87879971\n  0.12997541  1.65921671  1.60243304 -0.17164452  1.07163383  1.2966718\n  0.08455536  0.53345035 -0.76769456 -0.50697066  0.24678514 -0.33095876\n  1.56352827  0.98841405 -1.7881203   0.21947987 -2.1725492   0.11301776\n  0.88421741  1.37041491  0.18084386  1.34250087  0.21041741  1.24840869\n -1.61391407 -0.48418895  0.34364683 -0.96439916  1.33116853  0.63333364\n  0.40965933  1.19433269 -0.07743891 -1.08357083  0.34486113  0.78442887\n  0.27651537  0.64727981  1.33892927 -1.50510564 -1.16999934 -0.94069035\n -0.19421254 -1.71074423  1.92872787  0.391317   -1.0570802   0.36574286\n -0.12895271 -0.24118688  0.43609374  1.06618164 -0.15653334  2.21565192\n  0.23525535  0.96228876  2.34876273 -1.41902774  2.60679819 -1.28330815\n  1.24421683 -0.92804255  1.17949749 -0.63757146 -0.19398787 -0.61847225\n  0.89684065 -0.49438875 -1.64781981 -0.55973461  1.99721042 -0.36570901\n  0.41722465 -0.21760354 -0.72274736 -0.99431885  1.72791102 -1.46534033\n  0.51801416  0.082108   -0.15980367  2.33398722 -0.13094573  2.26960122\n -1.40125596  1.90832031 -0.16387621 -1.21868878  1.49843452 -0.21434578\n  0.36322682 -1.44104032 -1.00511706  0.52613243 -3.19249824 -0.37539093\n  0.30161213  0.16328155  0.12830974  1.2962395  -0.96751224  0.76683424\n  0.2815717   0.01573748 -0.09621348  0.2755144   0.13337173 -0.35814413\n -0.29541025 -0.98552974 -0.58024934  0.73374366  1.06429952  0.43004565\n  0.22357038 -0.27170365 -0.34128116 -0.44492213 -1.23049621 -1.0076623\n  0.80233502 -0.7363148 ].\nReshape your data either using array.reshape(-1, 1) if your data has a single feature or array.reshape(1, -1) if it contains a single sample."
     ]
    }
   ],
   "source": [
    "# 학습한다.\n",
    "reg.fit(X,y) #에러가 날 것이다."
   ]
  },
  {
   "cell_type": "code",
   "execution_count": 10,
   "metadata": {},
   "outputs": [
    {
     "data": {
      "text/plain": [
       "array([[ 0.11703131],\n",
       "       [-0.05961202],\n",
       "       [-0.96588427],\n",
       "       [ 1.02590035],\n",
       "       [-0.73744992],\n",
       "       [-1.0936725 ],\n",
       "       [ 0.61732051],\n",
       "       [-0.4046398 ],\n",
       "       [ 0.76207722],\n",
       "       [-0.14087736],\n",
       "       [-0.00866347],\n",
       "       [ 1.45784459],\n",
       "       [ 1.00434978],\n",
       "       [ 0.39189741],\n",
       "       [ 0.42585665],\n",
       "       [ 1.7918579 ],\n",
       "       [-1.29005792],\n",
       "       [-1.54106899],\n",
       "       [ 0.20574823],\n",
       "       [ 2.69922799],\n",
       "       [ 0.05290283],\n",
       "       [ 0.56265953],\n",
       "       [ 1.13255649],\n",
       "       [-0.28496794],\n",
       "       [-0.50645461],\n",
       "       [ 0.32948809],\n",
       "       [ 0.68570142],\n",
       "       [-0.30677497],\n",
       "       [-0.22689579],\n",
       "       [-0.37280648],\n",
       "       [ 0.35094794],\n",
       "       [-0.82892822],\n",
       "       [-0.66852469],\n",
       "       [ 0.86298272],\n",
       "       [-0.74437868],\n",
       "       [-0.3741388 ],\n",
       "       [-1.31494183],\n",
       "       [-0.58213585],\n",
       "       [-2.3451525 ],\n",
       "       [ 2.24671394],\n",
       "       [-1.19233881],\n",
       "       [-0.5676688 ],\n",
       "       [-2.11486708],\n",
       "       [ 0.99338057],\n",
       "       [-0.490619  ],\n",
       "       [ 0.2396149 ],\n",
       "       [ 0.04055253],\n",
       "       [ 0.66151391],\n",
       "       [ 0.05496725],\n",
       "       [ 2.36674334],\n",
       "       [ 0.74275366],\n",
       "       [-0.44196042],\n",
       "       [-0.22660337],\n",
       "       [ 1.13446739],\n",
       "       [-1.80150341],\n",
       "       [-0.70026215],\n",
       "       [ 0.28228991],\n",
       "       [-1.33701455],\n",
       "       [-0.5300998 ],\n",
       "       [ 0.29989418],\n",
       "       [ 0.02881638],\n",
       "       [-0.0841096 ],\n",
       "       [-0.17726528],\n",
       "       [-1.36953823],\n",
       "       [ 0.11889102],\n",
       "       [-1.59530162],\n",
       "       [-0.18272351],\n",
       "       [ 0.30232914],\n",
       "       [-1.59109569],\n",
       "       [-0.55341835],\n",
       "       [ 0.9039679 ],\n",
       "       [ 0.256819  ],\n",
       "       [-0.40709521],\n",
       "       [ 2.13619171],\n",
       "       [ 0.66821729],\n",
       "       [ 0.82046943],\n",
       "       [-1.77483113],\n",
       "       [ 1.87879971],\n",
       "       [ 0.12997541],\n",
       "       [ 1.65921671],\n",
       "       [ 1.60243304],\n",
       "       [-0.17164452],\n",
       "       [ 1.07163383],\n",
       "       [ 1.2966718 ],\n",
       "       [ 0.08455536],\n",
       "       [ 0.53345035],\n",
       "       [-0.76769456],\n",
       "       [-0.50697066],\n",
       "       [ 0.24678514],\n",
       "       [-0.33095876],\n",
       "       [ 1.56352827],\n",
       "       [ 0.98841405],\n",
       "       [-1.7881203 ],\n",
       "       [ 0.21947987],\n",
       "       [-2.1725492 ],\n",
       "       [ 0.11301776],\n",
       "       [ 0.88421741],\n",
       "       [ 1.37041491],\n",
       "       [ 0.18084386],\n",
       "       [ 1.34250087],\n",
       "       [ 0.21041741],\n",
       "       [ 1.24840869],\n",
       "       [-1.61391407],\n",
       "       [-0.48418895],\n",
       "       [ 0.34364683],\n",
       "       [-0.96439916],\n",
       "       [ 1.33116853],\n",
       "       [ 0.63333364],\n",
       "       [ 0.40965933],\n",
       "       [ 1.19433269],\n",
       "       [-0.07743891],\n",
       "       [-1.08357083],\n",
       "       [ 0.34486113],\n",
       "       [ 0.78442887],\n",
       "       [ 0.27651537],\n",
       "       [ 0.64727981],\n",
       "       [ 1.33892927],\n",
       "       [-1.50510564],\n",
       "       [-1.16999934],\n",
       "       [-0.94069035],\n",
       "       [-0.19421254],\n",
       "       [-1.71074423],\n",
       "       [ 1.92872787],\n",
       "       [ 0.391317  ],\n",
       "       [-1.0570802 ],\n",
       "       [ 0.36574286],\n",
       "       [-0.12895271],\n",
       "       [-0.24118688],\n",
       "       [ 0.43609374],\n",
       "       [ 1.06618164],\n",
       "       [-0.15653334],\n",
       "       [ 2.21565192],\n",
       "       [ 0.23525535],\n",
       "       [ 0.96228876],\n",
       "       [ 2.34876273],\n",
       "       [-1.41902774],\n",
       "       [ 2.60679819],\n",
       "       [-1.28330815],\n",
       "       [ 1.24421683],\n",
       "       [-0.92804255],\n",
       "       [ 1.17949749],\n",
       "       [-0.63757146],\n",
       "       [-0.19398787],\n",
       "       [-0.61847225],\n",
       "       [ 0.89684065],\n",
       "       [-0.49438875],\n",
       "       [-1.64781981],\n",
       "       [-0.55973461],\n",
       "       [ 1.99721042],\n",
       "       [-0.36570901],\n",
       "       [ 0.41722465],\n",
       "       [-0.21760354],\n",
       "       [-0.72274736],\n",
       "       [-0.99431885],\n",
       "       [ 1.72791102],\n",
       "       [-1.46534033],\n",
       "       [ 0.51801416],\n",
       "       [ 0.082108  ],\n",
       "       [-0.15980367],\n",
       "       [ 2.33398722],\n",
       "       [-0.13094573],\n",
       "       [ 2.26960122],\n",
       "       [-1.40125596],\n",
       "       [ 1.90832031],\n",
       "       [-0.16387621],\n",
       "       [-1.21868878],\n",
       "       [ 1.49843452],\n",
       "       [-0.21434578],\n",
       "       [ 0.36322682],\n",
       "       [-1.44104032],\n",
       "       [-1.00511706],\n",
       "       [ 0.52613243],\n",
       "       [-3.19249824],\n",
       "       [-0.37539093],\n",
       "       [ 0.30161213],\n",
       "       [ 0.16328155],\n",
       "       [ 0.12830974],\n",
       "       [ 1.2962395 ],\n",
       "       [-0.96751224],\n",
       "       [ 0.76683424],\n",
       "       [ 0.2815717 ],\n",
       "       [ 0.01573748],\n",
       "       [-0.09621348],\n",
       "       [ 0.2755144 ],\n",
       "       [ 0.13337173],\n",
       "       [-0.35814413],\n",
       "       [-0.29541025],\n",
       "       [-0.98552974],\n",
       "       [-0.58024934],\n",
       "       [ 0.73374366],\n",
       "       [ 1.06429952],\n",
       "       [ 0.43004565],\n",
       "       [ 0.22357038],\n",
       "       [-0.27170365],\n",
       "       [-0.34128116],\n",
       "       [-0.44492213],\n",
       "       [-1.23049621],\n",
       "       [-1.0076623 ],\n",
       "       [ 0.80233502],\n",
       "       [-0.7363148 ]])"
      ]
     },
     "execution_count": 10,
     "metadata": {},
     "output_type": "execute_result"
    }
   ],
   "source": [
    "X=X.reshape(-1,1)\n",
    "X"
   ]
  },
  {
   "cell_type": "code",
   "execution_count": 11,
   "metadata": {},
   "outputs": [
    {
     "data": {
      "text/plain": [
       "LinearRegression(copy_X=True, fit_intercept=True, n_jobs=None, normalize=False)"
      ]
     },
     "execution_count": 11,
     "metadata": {},
     "output_type": "execute_result"
    }
   ],
   "source": [
    "# 학습하기.\n",
    "reg.fit(X,y)"
   ]
  },
  {
   "cell_type": "code",
   "execution_count": 12,
   "metadata": {},
   "outputs": [
    {
     "name": "stdout",
     "output_type": "stream",
     "text": [
      "estimated_w: 2.075561, estimated_b: -3.031076\n"
     ]
    }
   ],
   "source": [
    "# 학습결과 파악하기\n",
    "print('estimated_w: %f, estimated_b: %f' % (reg.coef_, reg.intercept_))"
   ]
  },
  {
   "cell_type": "code",
   "execution_count": 13,
   "metadata": {},
   "outputs": [
    {
     "data": {
      "text/plain": [
       "array([-2.78816997e+00, -3.15480399e+00, -5.03582739e+00, -9.01756760e-01,\n",
       "       -4.56169794e+00, -5.30105966e+00, -1.74978917e+00, -3.87093022e+00,\n",
       "       -1.44933778e+00, -3.32347516e+00, -3.04905716e+00, -5.23012091e-03,\n",
       "       -9.46486293e-01, -2.21766858e+00, -2.14718411e+00,  6.88034911e-01,\n",
       "       -5.70866959e+00, -6.22965839e+00, -2.60403258e+00,  2.57133694e+00,\n",
       "       -2.92127253e+00, -1.86324137e+00, -6.80385429e-01, -3.62254395e+00,\n",
       "       -4.08225306e+00, -2.34720294e+00, -1.60786043e+00, -3.66780578e+00,\n",
       "       -3.50201166e+00, -3.80485820e+00, -2.30266172e+00, -4.75156673e+00,\n",
       "       -4.41863940e+00, -1.23990225e+00, -4.57607900e+00, -3.80762352e+00,\n",
       "       -5.76031765e+00, -4.23933410e+00, -7.89858283e+00,  1.63211640e+00,\n",
       "       -5.50584760e+00, -4.20930686e+00, -7.42061138e+00, -9.69253558e-01,\n",
       "       -4.04938529e+00, -2.53374024e+00, -2.94690635e+00, -1.65806308e+00,\n",
       "       -2.91698771e+00,  1.88124474e+00, -1.48944502e+00, -3.94839145e+00,\n",
       "       -3.50140472e+00, -6.76419238e-01, -6.77020595e+00, -4.48451246e+00,\n",
       "       -2.44516564e+00, -5.80613094e+00, -4.13133011e+00, -2.40862692e+00,\n",
       "       -2.97126543e+00, -3.20565021e+00, -3.39900051e+00, -5.87363583e+00,\n",
       "       -2.78431003e+00, -6.34222153e+00, -3.41032940e+00, -2.40357300e+00,\n",
       "       -6.33349187e+00, -4.17972918e+00, -1.15483501e+00, -2.49803208e+00,\n",
       "       -3.87602656e+00,  1.40272076e+00, -1.64414979e+00, -1.32814119e+00,\n",
       "       -6.71484600e+00,  8.68487944e-01, -2.76130370e+00,  4.12730015e-01,\n",
       "        2.94872034e-01, -3.38733428e+00, -8.06834136e-01, -3.39754077e-01,\n",
       "       -2.85557579e+00, -1.92386681e+00, -4.62447254e+00, -4.08332417e+00,\n",
       "       -2.51885796e+00, -3.71800071e+00,  2.14122807e-01, -9.79561868e-01,\n",
       "       -6.74242848e+00, -2.57553171e+00, -7.54033413e+00, -2.79650034e+00,\n",
       "       -1.19582836e+00, -1.86695748e-01, -2.65572312e+00, -2.44633054e-01,\n",
       "       -2.59434142e+00, -4.39927113e-01, -6.38085280e+00, -4.03603932e+00,\n",
       "       -2.31781562e+00, -5.03274494e+00, -2.68154007e-01, -1.71655294e+00,\n",
       "       -2.18080263e+00, -5.52165159e-01, -3.19180478e+00, -5.28009302e+00,\n",
       "       -2.31529526e+00, -1.40294556e+00, -2.45715106e+00, -1.68760682e+00,\n",
       "       -2.52046119e-01, -6.15501427e+00, -5.45948068e+00, -4.98353586e+00,\n",
       "       -3.43417559e+00, -6.58182971e+00,  9.72116886e-01, -2.21887327e+00,\n",
       "       -5.22511010e+00, -2.27195396e+00, -3.29872482e+00, -3.53167369e+00,\n",
       "       -2.12593639e+00, -8.18150484e-01, -3.35597009e+00,  1.56764528e+00,\n",
       "       -2.54278874e+00, -1.03378651e+00,  1.84392490e+00, -5.97635434e+00,\n",
       "        2.37949324e+00, -5.69466003e+00, -4.48627588e-01, -4.95728458e+00,\n",
       "       -5.82956519e-01, -4.35439409e+00, -3.43370926e+00, -4.31475251e+00,\n",
       "       -1.16962806e+00, -4.05720964e+00, -6.45122625e+00, -4.19283896e+00,\n",
       "        1.11425659e+00, -3.79012697e+00, -2.16510034e+00, -3.48272503e+00,\n",
       "       -4.53118188e+00, -5.09484508e+00,  5.55309251e-01, -6.07247893e+00,\n",
       "       -1.95590557e+00, -2.86065542e+00, -3.36275786e+00,  1.81325741e+00,\n",
       "       -3.30286146e+00,  1.67962034e+00, -5.93946792e+00,  9.29759743e-01,\n",
       "       -3.37121067e+00, -5.56053859e+00,  7.90167508e-02, -3.47596335e+00,\n",
       "       -2.27717615e+00, -6.02204278e+00, -5.11725743e+00, -1.93905559e+00,\n",
       "       -9.65730066e+00, -3.81022239e+00, -2.40506121e+00, -2.69217478e+00,\n",
       "       -2.76476089e+00, -3.40651356e-01, -5.03920634e+00, -1.43946431e+00,\n",
       "       -2.44665633e+00, -2.99841148e+00, -3.23077256e+00, -2.45922862e+00,\n",
       "       -2.75425443e+00, -3.77442561e+00, -3.64421761e+00, -5.07660274e+00,\n",
       "       -4.23541853e+00, -1.50814582e+00, -8.22056950e-01, -2.13848958e+00,\n",
       "       -2.56704161e+00, -3.59501312e+00, -3.73942549e+00, -3.95453864e+00,\n",
       "       -5.58504562e+00, -5.12254024e+00, -1.36578027e+00, -4.55934193e+00])"
      ]
     },
     "execution_count": 13,
     "metadata": {},
     "output_type": "execute_result"
    }
   ],
   "source": [
    "# 예측하기\n",
    "y_hat = reg.predict(X)\n",
    "y_hat"
   ]
  },
  {
   "cell_type": "code",
   "execution_count": 14,
   "metadata": {},
   "outputs": [
    {
     "data": {
      "text/plain": [
       "[<matplotlib.lines.Line2D at 0x230979e7400>]"
      ]
     },
     "execution_count": 14,
     "metadata": {},
     "output_type": "execute_result"
    },
    {
     "data": {
      "image/png": "[encoded data removed]",
      "text/plain": [
       "<Figure size 432x288 with 1 Axes>"
      ]
     },
     "metadata": {
      "needs_background": "light"
     },
     "output_type": "display_data"
    }
   ],
   "source": [
    "# 확인해보기\n",
    "plt.scatter(X,y)\n",
    "plt.plot(X,y_hat,color='c')"
   ]
  },
  {
   "cell_type": "code",
   "execution_count": 15,
   "metadata": {},
   "outputs": [
    {
     "data": {
      "text/plain": [
       "array([-0.06373057,  0.48058162, -0.32630631, -0.2800213 ,  0.09277229,\n",
       "        0.53970071, -0.21565174, -0.00835434, -0.01260623, -0.11904685,\n",
       "       -0.16127067,  0.26027213, -0.16235707, -0.23747616, -0.60739207,\n",
       "       -0.4374949 , -0.08799291, -0.41931109, -0.31528833, -0.48034251,\n",
       "       -0.48256994,  0.24736075, -0.18369121,  0.52957522, -0.42177967,\n",
       "       -0.00602401, -0.33339479, -0.16425604, -0.13257088, -0.22608012,\n",
       "        0.42812961,  0.94902104,  0.27424713, -0.30304535, -0.56844209,\n",
       "        0.18395919, -0.24538165,  0.92217606,  0.26737423, -0.46385584,\n",
       "       -0.26870322,  0.01793524, -0.13932154, -0.09758924,  0.52282129,\n",
       "       -0.08428687,  0.22135193,  0.33414509, -0.37044032, -0.89791418,\n",
       "        0.23815291, -0.88218862, -1.42169065,  0.56155936, -0.43890143,\n",
       "        1.40339308, -0.03068934,  0.00682515,  0.19745551,  0.09181936,\n",
       "        0.06550594,  0.02195809,  0.42177303,  0.26752059, -0.85207047,\n",
       "        0.35321161,  0.24849402,  0.65816438,  0.61082824,  0.85614849,\n",
       "       -0.71931707,  0.53751505, -0.57602185,  0.32471682,  0.001792  ,\n",
       "       -0.15655635,  0.11238251,  0.0594647 ,  0.01240345, -0.51075215,\n",
       "       -0.21146244, -0.20749854,  0.027281  ,  0.34793877, -0.33659075,\n",
       "       -0.02559714,  0.28055104,  0.22601435, -0.99365108,  0.41023728,\n",
       "       -0.66391065,  0.2635703 , -0.72737735,  0.41015629,  0.51950307,\n",
       "       -0.19106349, -0.19703443, -0.81897711,  0.30869963, -1.54999702,\n",
       "        0.60759976, -0.90037602, -0.63802682,  0.31456386, -1.0552691 ,\n",
       "       -0.15715819, -0.27752863, -0.57785768,  0.33465529,  0.03651855,\n",
       "       -0.46283218, -0.09021281, -0.04960742,  0.6702118 , -0.79641067,\n",
       "        0.34958469, -0.02408099,  0.92938898, -0.12890203, -0.09274393,\n",
       "       -0.39080001, -0.71093711,  0.39530238,  0.42391425, -0.58880944,\n",
       "       -0.00950734, -0.33346073,  0.70157986,  0.68871034,  0.9275142 ,\n",
       "        0.02425984,  0.05200497, -0.12321253,  0.01280317,  0.04094924,\n",
       "       -0.55858662,  0.33713443,  0.70064053,  0.61414991, -0.21256296,\n",
       "        0.6593915 , -0.1003035 ,  0.15059837, -0.53781882,  0.01949676,\n",
       "        0.45919418, -0.05880338, -0.76507354,  0.20681245, -0.53595684,\n",
       "        1.15553872, -0.11338397, -0.54054202, -0.47603078,  0.30050551,\n",
       "       -0.27618888, -0.31441683, -1.10734489, -0.6580989 ,  0.06914486,\n",
       "        0.31516237,  0.32670397,  0.38355106,  0.5691731 ,  0.08857319,\n",
       "       -0.29409431,  0.97928648, -0.01803064,  0.41635298, -0.19238226,\n",
       "        0.28476175, -0.08101136,  0.02319172, -0.25076554,  0.28488761,\n",
       "        0.72904498, -0.7058812 ,  0.50621105,  0.38298888,  0.71143625,\n",
       "       -0.05643214, -0.08805018,  0.44196874,  0.22847255,  0.8201311 ,\n",
       "       -0.41672679,  0.21625538,  0.34843666,  0.56761206, -0.60994868,\n",
       "        0.29757767,  0.60527705,  0.12418699, -0.35232883, -0.29461334,\n",
       "       -0.39888754,  0.19063928,  0.25025968,  0.65245141,  0.21411434])"
      ]
     },
     "execution_count": 15,
     "metadata": {},
     "output_type": "execute_result"
    }
   ],
   "source": [
    "# y_hat과 y차이\n",
    "y_hat-y"
   ]
  },
  {
   "cell_type": "code",
   "execution_count": 16,
   "metadata": {},
   "outputs": [],
   "source": [
    "# 평가지표 RMSE from scratch\n",
    "def rmse(y,y_hat):\n",
    "    return np.sqrt(np.mean((y_hat-y)**2))    "
   ]
  },
  {
   "cell_type": "code",
   "execution_count": 17,
   "metadata": {},
   "outputs": [
    {
     "data": {
      "text/plain": [
       "0.4835253359714772"
      ]
     },
     "execution_count": 17,
     "metadata": {},
     "output_type": "execute_result"
    }
   ],
   "source": [
    "rmse(y,y_hat)"
   ]
  },
  {
   "cell_type": "code",
   "execution_count": 18,
   "metadata": {},
   "outputs": [
    {
     "name": "stdout",
     "output_type": "stream",
     "text": [
      "mse: 0.233797, rmse: 0.483525\n"
     ]
    }
   ],
   "source": [
    "from sklearn.metrics import mean_squared_error\n",
    "mse=mean_squared_error(y,y_hat)\n",
    "print('mse: %f, rmse: %f' % (mse, np.sqrt(mse)))"
   ]
  },
  {
   "cell_type": "code",
   "execution_count": 86,
   "metadata": {},
   "outputs": [],
   "source": [
    "## 데이터프레임으로 읽어들이기"
   ]
  },
  {
   "cell_type": "code",
   "execution_count": 19,
   "metadata": {},
   "outputs": [],
   "source": [
    "df=pd.read_csv('reg_data_1.csv')"
   ]
  },
  {
   "cell_type": "code",
   "execution_count": 20,
   "metadata": {},
   "outputs": [
    {
     "data": {
      "text/plain": [
       "<matplotlib.axes._subplots.AxesSubplot at 0x23099a57d30>"
      ]
     },
     "execution_count": 20,
     "metadata": {},
     "output_type": "execute_result"
    },
    {
     "data": {
      "image/png": "[encoded data removed]",
      "text/plain": [
       "<Figure size 432x288 with 1 Axes>"
      ]
     },
     "metadata": {
      "needs_background": "light"
     },
     "output_type": "display_data"
    }
   ],
   "source": [
    "df.plot.scatter(x='X',y='y')"
   ]
  },
  {
   "cell_type": "code",
   "execution_count": 21,
   "metadata": {},
   "outputs": [],
   "source": [
    "# 데이터를 세팅한다.\n",
    "X = df['X']\n",
    "X = np.array(X).reshape(-1,1) #2차원을 \n",
    "y = df['y']"
   ]
  },
  {
   "cell_type": "code",
   "execution_count": 22,
   "metadata": {},
   "outputs": [
    {
     "data": {
      "text/plain": [
       "LinearRegression(copy_X=True, fit_intercept=True, n_jobs=None, normalize=False)"
      ]
     },
     "execution_count": 22,
     "metadata": {},
     "output_type": "execute_result"
    }
   ],
   "source": [
    "# 객체안의 fit을 통해 학습한다\n",
    "reg.fit(X,y)"
   ]
  },
  {
   "cell_type": "code",
   "execution_count": 23,
   "metadata": {},
   "outputs": [
    {
     "data": {
      "text/plain": [
       "0.24469717191802182"
      ]
     },
     "execution_count": 23,
     "metadata": {},
     "output_type": "execute_result"
    }
   ],
   "source": [
    "y_hat=reg.predict(X)\n",
    "from sklearn.metrics import mean_squared_error\n",
    "mse=mean_squared_error(y,y_hat)\n",
    "mse"
   ]
  },
  {
   "cell_type": "markdown",
   "metadata": {},
   "source": [
    "## Advertising 데이터 불러오기"
   ]
  },
  {
   "cell_type": "code",
   "execution_count": 34,
   "metadata": {},
   "outputs": [
    {
     "data": {
      "text/html": [
       "<div>\n",
       "<style scoped>\n",
       "    .dataframe tbody tr th:only-of-type {\n",
       "        vertical-align: middle;\n",
       "    }\n",
       "\n",
       "    .dataframe tbody tr th {\n",
       "        vertical-align: top;\n",
       "    }\n",
       "\n",
       "    .dataframe thead th {\n",
       "        text-align: right;\n",
       "    }\n",
       "</style>\n",
       "<table border=\"1\" class=\"dataframe\">\n",
       "  <thead>\n",
       "    <tr style=\"text-align: right;\">\n",
       "      <th></th>\n",
       "      <th>Unnamed: 0</th>\n",
       "      <th>TV</th>\n",
       "      <th>Radio</th>\n",
       "      <th>Newspaper</th>\n",
       "      <th>Sales</th>\n",
       "    </tr>\n",
       "  </thead>\n",
       "  <tbody>\n",
       "    <tr>\n",
       "      <th>0</th>\n",
       "      <td>1</td>\n",
       "      <td>230.1</td>\n",
       "      <td>37.8</td>\n",
       "      <td>69.2</td>\n",
       "      <td>22.1</td>\n",
       "    </tr>\n",
       "    <tr>\n",
       "      <th>1</th>\n",
       "      <td>2</td>\n",
       "      <td>44.5</td>\n",
       "      <td>39.3</td>\n",
       "      <td>45.1</td>\n",
       "      <td>10.4</td>\n",
       "    </tr>\n",
       "    <tr>\n",
       "      <th>2</th>\n",
       "      <td>3</td>\n",
       "      <td>17.2</td>\n",
       "      <td>45.9</td>\n",
       "      <td>69.3</td>\n",
       "      <td>9.3</td>\n",
       "    </tr>\n",
       "    <tr>\n",
       "      <th>3</th>\n",
       "      <td>4</td>\n",
       "      <td>151.5</td>\n",
       "      <td>41.3</td>\n",
       "      <td>58.5</td>\n",
       "      <td>18.5</td>\n",
       "    </tr>\n",
       "    <tr>\n",
       "      <th>4</th>\n",
       "      <td>5</td>\n",
       "      <td>180.8</td>\n",
       "      <td>10.8</td>\n",
       "      <td>58.4</td>\n",
       "      <td>12.9</td>\n",
       "    </tr>\n",
       "  </tbody>\n",
       "</table>\n",
       "</div>"
      ],
      "text/plain": [
       "   Unnamed: 0     TV  Radio  Newspaper  Sales\n",
       "0           1  230.1   37.8       69.2   22.1\n",
       "1           2   44.5   39.3       45.1   10.4\n",
       "2           3   17.2   45.9       69.3    9.3\n",
       "3           4  151.5   41.3       58.5   18.5\n",
       "4           5  180.8   10.8       58.4   12.9"
      ]
     },
     "execution_count": 34,
     "metadata": {},
     "output_type": "execute_result"
    }
   ],
   "source": [
    "df=pd.read_csv('Advertising.csv',index_col=None)\n",
    "df.head()"
   ]
  },
  {
   "cell_type": "code",
   "execution_count": 35,
   "metadata": {},
   "outputs": [
    {
     "data": {
      "text/html": [
       "<div>\n",
       "<style scoped>\n",
       "    .dataframe tbody tr th:only-of-type {\n",
       "        vertical-align: middle;\n",
       "    }\n",
       "\n",
       "    .dataframe tbody tr th {\n",
       "        vertical-align: top;\n",
       "    }\n",
       "\n",
       "    .dataframe thead th {\n",
       "        text-align: right;\n",
       "    }\n",
       "</style>\n",
       "<table border=\"1\" class=\"dataframe\">\n",
       "  <thead>\n",
       "    <tr style=\"text-align: right;\">\n",
       "      <th></th>\n",
       "      <th>TV</th>\n",
       "      <th>Radio</th>\n",
       "      <th>Newspaper</th>\n",
       "      <th>Sales</th>\n",
       "    </tr>\n",
       "  </thead>\n",
       "  <tbody>\n",
       "    <tr>\n",
       "      <th>0</th>\n",
       "      <td>230.1</td>\n",
       "      <td>37.8</td>\n",
       "      <td>69.2</td>\n",
       "      <td>22.1</td>\n",
       "    </tr>\n",
       "    <tr>\n",
       "      <th>1</th>\n",
       "      <td>44.5</td>\n",
       "      <td>39.3</td>\n",
       "      <td>45.1</td>\n",
       "      <td>10.4</td>\n",
       "    </tr>\n",
       "    <tr>\n",
       "      <th>2</th>\n",
       "      <td>17.2</td>\n",
       "      <td>45.9</td>\n",
       "      <td>69.3</td>\n",
       "      <td>9.3</td>\n",
       "    </tr>\n",
       "    <tr>\n",
       "      <th>3</th>\n",
       "      <td>151.5</td>\n",
       "      <td>41.3</td>\n",
       "      <td>58.5</td>\n",
       "      <td>18.5</td>\n",
       "    </tr>\n",
       "    <tr>\n",
       "      <th>4</th>\n",
       "      <td>180.8</td>\n",
       "      <td>10.8</td>\n",
       "      <td>58.4</td>\n",
       "      <td>12.9</td>\n",
       "    </tr>\n",
       "  </tbody>\n",
       "</table>\n",
       "</div>"
      ],
      "text/plain": [
       "      TV  Radio  Newspaper  Sales\n",
       "0  230.1   37.8       69.2   22.1\n",
       "1   44.5   39.3       45.1   10.4\n",
       "2   17.2   45.9       69.3    9.3\n",
       "3  151.5   41.3       58.5   18.5\n",
       "4  180.8   10.8       58.4   12.9"
      ]
     },
     "execution_count": 35,
     "metadata": {},
     "output_type": "execute_result"
    }
   ],
   "source": [
    "df=df.iloc[:,1:]\n",
    "df.head()"
   ]
  },
  {
   "cell_type": "code",
   "execution_count": 33,
   "metadata": {},
   "outputs": [],
   "source": [
    "from sklearn.linear_model import LinearRegression\n",
    "reg = LinearRegression()"
   ]
  },
  {
   "cell_type": "code",
   "execution_count": 46,
   "metadata": {},
   "outputs": [],
   "source": [
    "features=['TV','Radio','Newspaper']\n",
    "X=df[features]\n",
    "y=df['Sales']"
   ]
  },
  {
   "cell_type": "code",
   "execution_count": 47,
   "metadata": {},
   "outputs": [
    {
     "data": {
      "text/plain": [
       "LinearRegression(copy_X=True, fit_intercept=True, n_jobs=None, normalize=False)"
      ]
     },
     "execution_count": 47,
     "metadata": {},
     "output_type": "execute_result"
    }
   ],
   "source": [
    "reg.fit(X,y)"
   ]
  },
  {
   "cell_type": "code",
   "execution_count": 48,
   "metadata": {},
   "outputs": [
    {
     "name": "stdout",
     "output_type": "stream",
     "text": [
      "estimated_w: [ 0.04576465  0.18853002 -0.00103749], estimated_b: 2.9388893694594085\n"
     ]
    }
   ],
   "source": [
    "# 학습결과 파악하기\n",
    "print('estimated_w: {}, estimated_b: {}'.format(reg.coef_, reg.intercept_))"
   ]
  },
  {
   "cell_type": "code",
   "execution_count": 49,
   "metadata": {},
   "outputs": [
    {
     "data": {
      "text/plain": [
       "[('TV', 0.045764645455397615),\n",
       " ('Radio', 0.18853001691820456),\n",
       " ('Newspaper', -0.0010374930424763272)]"
      ]
     },
     "execution_count": 49,
     "metadata": {},
     "output_type": "execute_result"
    }
   ],
   "source": [
    "list(zip(features, reg.coef_))"
   ]
  },
  {
   "cell_type": "code",
   "execution_count": 44,
   "metadata": {},
   "outputs": [
    {
     "data": {
      "text/plain": [
       "1.6685701407225697"
      ]
     },
     "execution_count": 44,
     "metadata": {},
     "output_type": "execute_result"
    }
   ],
   "source": [
    "# mse 구하기\n",
    "mean_squared_error(reg.predict(X),y)"
   ]
  },
  {
   "cell_type": "code",
   "execution_count": 41,
   "metadata": {},
   "outputs": [],
   "source": [
    "# Todo: Standardize후 회귀식 구하기 (어떤것이 영향이 제일 큰가?)\n",
    "# MSE 차이가 있는가?"
   ]
  },
  {
   "cell_type": "code",
   "execution_count": null,
   "metadata": {},
   "outputs": [],
   "source": [
    "# 데이터 읽어들이기\n",
    "# Dummy 사용할것\n",
    "# 표준화 할것\n",
    "# MSE 구할것\n",
    "# "
   ]
  }
 ],
 "metadata": {
  "kernelspec": {
   "display_name": "Python 3",
   "language": "python",
   "name": "python3"
  },
  "language_info": {
   "codemirror_mode": {
    "name": "ipython",
    "version": 3
   },
   "file_extension": ".py",
   "mimetype": "text/x-python",
   "name": "python",
   "nbconvert_exporter": "python",
   "pygments_lexer": "ipython3",
   "version": "3.7.3"
  }
 },
 "nbformat": 4,
 "nbformat_minor": 4
}
