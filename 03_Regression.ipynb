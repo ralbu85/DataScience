{
 "cells": [
  {
   "cell_type": "markdown",
   "metadata": {},
   "source": [
    "# 3. Regression\n"
   ]
  },
  {
   "cell_type": "code",
   "execution_count": 1,
   "metadata": {},
   "outputs": [],
   "source": [
    "%matplotlib inline"
   ]
  },
  {
   "cell_type": "markdown",
   "metadata": {},
   "source": [
    "## 1차회귀"
   ]
  },
  {
   "cell_type": "code",
   "execution_count": 2,
   "metadata": {},
   "outputs": [],
   "source": [
    "import numpy as np\n",
    "import pandas as pd\n",
    "import matplotlib.pyplot as plt"
   ]
  },
  {
   "cell_type": "code",
   "execution_count": 3,
   "metadata": {},
   "outputs": [],
   "source": [
    "true_w = 2\n",
    "true_b = -3\n",
    "X = np.random.normal(scale=1, size=200)"
   ]
  },
  {
   "cell_type": "code",
   "execution_count": 4,
   "metadata": {},
   "outputs": [
    {
     "data": {
      "text/plain": [
       "array([ 5.75527331e-01,  7.54142572e-01,  3.28086042e-01, -7.91109860e-01,\n",
       "        8.05721871e-01, -4.86009026e-01,  5.26400083e-01, -5.55823344e-01,\n",
       "        2.19767092e+00, -1.37610221e+00,  5.00177324e-01, -1.10751822e-01,\n",
       "       -5.46507358e-01,  1.41740852e+00,  7.44649105e-01, -7.80682769e-01,\n",
       "        1.48852898e-01, -9.14998334e-02,  9.00296403e-01,  1.28228805e-01,\n",
       "       -1.99921116e-01, -2.72329479e+00, -1.15194672e-01,  6.75990151e-01,\n",
       "       -7.97793604e-02,  1.47734762e+00,  2.48988298e-01,  4.81377316e-01,\n",
       "       -7.16268144e-01, -1.70954470e+00, -2.52863338e-01, -9.14813843e-02,\n",
       "       -1.26496900e-01, -6.52660209e-01,  3.09644910e-01, -9.46592714e-01,\n",
       "        3.35125437e-01, -3.62126747e-01,  7.05230061e-01, -1.96038908e+00,\n",
       "       -8.20924021e-01, -1.58517487e+00,  3.12602961e-01,  1.07239273e-01,\n",
       "       -2.17694964e+00, -1.59011661e+00, -2.22972583e+00, -5.77266809e-01,\n",
       "        2.89512163e-02, -2.90003257e-01,  7.63119640e-01,  8.47230978e-01,\n",
       "        9.28489527e-02,  3.38640055e-01, -7.50904747e-03, -1.16572086e-01,\n",
       "       -4.29433126e-01, -1.64923542e+00,  4.45856699e-01,  8.16042800e-01,\n",
       "       -9.14003369e-01,  1.01902940e+00, -8.93659670e-01, -1.06116250e+00,\n",
       "        1.95846359e+00,  1.13211858e+00, -6.71488671e-01, -5.99317716e-01,\n",
       "       -5.28511834e-01,  9.72309049e-01,  1.74662331e-01, -1.23052624e-01,\n",
       "        1.14490184e+00,  1.94635376e-01,  9.70497676e-01, -1.46128395e-01,\n",
       "       -3.88179737e-01,  3.69241356e-01,  6.84592721e-01, -5.48135743e-01,\n",
       "       -6.19765045e-01, -2.73313576e-01, -6.62415375e-01,  8.24596760e-01,\n",
       "        1.91089697e+00, -3.10481255e-01, -4.41318139e-01,  3.44002121e-01,\n",
       "       -3.22266033e-01,  3.68727666e-01, -6.50378876e-01, -2.68155416e-01,\n",
       "       -1.68951717e-01, -1.07492049e+00, -3.45969322e-01,  1.03572832e+00,\n",
       "       -8.07691967e-01,  5.35771364e-02, -8.37336752e-01, -1.22594740e+00,\n",
       "        5.24795295e-01,  1.32235459e+00,  3.37914238e-02,  1.13622683e+00,\n",
       "        2.77958718e-01,  2.21565069e-01,  5.06762198e-01, -2.70075837e+00,\n",
       "       -2.79069386e-01, -1.72051918e-01,  3.59952080e-01,  1.33934315e-01,\n",
       "       -7.98201623e-01, -1.85726206e-01, -9.06014719e-01,  2.08592813e+00,\n",
       "       -8.20250783e-01, -2.78870481e-01,  6.30371382e-01,  1.12754880e+00,\n",
       "        9.83106891e-01,  9.06948095e-01, -8.71936741e-01,  8.29193377e-02,\n",
       "       -7.35908260e-01,  9.66474351e-01,  5.11380613e-01, -8.61690631e-01,\n",
       "        4.99623180e-01, -6.72661085e-02, -1.43341361e+00, -1.56128616e+00,\n",
       "        4.65445340e-01, -1.21456136e+00,  4.06873930e-01, -3.17542347e-01,\n",
       "        5.77240140e-01, -5.08722214e-01,  7.83002856e-02, -1.79926674e-01,\n",
       "        2.71847921e-01,  2.17899130e+00,  1.09967668e+00,  4.12516134e-01,\n",
       "       -1.58790695e-01, -3.29355468e-01,  6.92670302e-02, -4.41706042e-01,\n",
       "        1.21567354e+00, -5.26872453e-01, -2.25688197e-01, -1.91954743e+00,\n",
       "       -1.84845770e+00, -1.20222087e+00, -3.25984451e-01, -4.14381104e-01,\n",
       "        8.56672792e-01,  8.29010871e-01, -1.06683019e-01,  6.87114802e-01,\n",
       "       -5.02606381e-01, -2.29276800e-01, -7.74214516e-01,  1.00610140e+00,\n",
       "       -1.61443922e+00, -6.84517508e-02, -6.11972844e-01,  5.10905969e-01,\n",
       "       -8.80808091e-01,  1.70301256e+00,  3.23554303e-01,  1.20584471e+00,\n",
       "       -3.51174998e-01, -2.08008425e-01, -2.43829134e-03,  1.50699741e-01,\n",
       "       -1.38264811e+00, -1.11851892e+00,  5.71830037e-01, -2.61604322e-01,\n",
       "       -1.14970783e+00,  1.11639443e-01,  3.50630627e-01, -2.95925970e-01,\n",
       "        2.07353724e-02,  2.83015211e+00, -7.68831067e-01, -2.20888711e-01,\n",
       "        3.33266381e-01, -1.35094950e+00,  3.21864831e-01, -2.70182910e-01,\n",
       "        2.22259412e+00, -7.66823230e-01,  2.51503046e+00, -5.23683069e-01,\n",
       "        1.21592660e+00, -3.81947929e-01,  1.57867250e+00,  7.50248505e-01])"
      ]
     },
     "execution_count": 4,
     "metadata": {},
     "output_type": "execute_result"
    }
   ],
   "source": [
    "X"
   ]
  },
  {
   "cell_type": "code",
   "execution_count": 5,
   "metadata": {},
   "outputs": [
    {
     "data": {
      "text/plain": [
       "array([-1.88109441, -2.01337497, -1.85081752, -4.37899345, -0.64117955,\n",
       "       -4.30849023, -1.66909237, -5.0450058 ,  1.23325972, -5.39789992,\n",
       "       -1.19788397, -3.35158509, -4.45996842, -0.04191697,  0.30424009,\n",
       "       -4.44261135, -2.31419672, -2.81542479, -0.69475134, -3.27551712,\n",
       "       -3.39198288, -8.730125  , -3.01172801, -1.01899637, -3.4419151 ,\n",
       "        0.01751052, -2.87944282, -2.71357156, -4.429992  , -6.42915346,\n",
       "       -3.4670066 , -2.18359724, -2.80604654, -4.19971711, -3.53726274,\n",
       "       -4.97972463, -2.77826752, -3.86370163, -1.62878429, -6.33878128,\n",
       "       -4.71834582, -6.26150807, -2.93306925, -1.80082316, -6.76498153,\n",
       "       -6.31010153, -6.87952209, -3.71521144, -2.86533879, -3.50878328,\n",
       "       -1.27836031, -1.26278152, -3.0961844 , -1.91121522, -3.72325738,\n",
       "       -4.23456872, -3.70918996, -6.73927535, -2.87326553, -0.9751014 ,\n",
       "       -5.7469306 , -1.09044957, -5.11064009, -5.96054083,  1.71779619,\n",
       "       -0.71956579, -4.65522198, -4.14265217, -3.9044343 ,  0.04710626,\n",
       "       -1.67070443, -3.02603459, -0.42891964, -2.10326433, -0.81649493,\n",
       "       -3.02502766, -3.59106794, -2.38173784, -1.25117072, -4.02415255,\n",
       "       -4.98172842, -4.45152472, -4.04189383, -1.06124553,  1.31381036,\n",
       "       -4.35077344, -3.04874292, -2.59678027, -3.60797038, -2.35989259,\n",
       "       -4.22057757, -4.69259429, -3.94047364, -5.28012119, -3.71868852,\n",
       "       -0.32298191, -3.92673567, -3.30751048, -4.2866969 , -4.41046819,\n",
       "       -1.88374507,  0.12075213, -2.67669393, -0.76749563, -3.12361629,\n",
       "       -2.94046159, -2.52678587, -8.85738117, -3.20251441, -4.1631903 ,\n",
       "       -2.27693991, -2.37828748, -3.70893933, -3.91588001, -5.47510013,\n",
       "        0.70598741, -4.63755529, -4.31702457, -1.82814238, -0.21194235,\n",
       "       -1.43420847, -0.34707261, -4.18889295, -2.99480965, -4.47613055,\n",
       "       -0.62974626, -1.41566661, -5.12153855, -2.39634704, -3.28954201,\n",
       "       -6.05318589, -6.07732659, -1.96911255, -4.60087448, -1.60140716,\n",
       "       -2.91482257, -1.68097215, -4.77521361, -2.30284766, -3.49722311,\n",
       "       -2.21062602,  1.24727817, -1.11408038, -2.42201171, -3.48288027,\n",
       "       -3.90737986, -2.32670769, -3.76303051, -0.33439622, -3.61695085,\n",
       "       -4.01459152, -6.23469882, -6.74048396, -5.58648021, -3.41026837,\n",
       "       -4.6271705 , -0.87221024, -1.21218254, -2.9558248 , -2.01359648,\n",
       "       -4.18107176, -3.41572795, -4.46632646, -1.12531468, -5.38018552,\n",
       "       -2.63833678, -4.50992741, -1.55194891, -5.26298309, -0.24395424,\n",
       "       -2.27270977, -0.34369748, -3.45680139, -2.78117378, -3.4674428 ,\n",
       "       -2.98817745, -6.38128455, -5.56263246, -2.01700288, -3.51086812,\n",
       "       -5.04938411, -2.02871492, -2.34867648, -3.79959677, -2.31533998,\n",
       "        3.01658997, -5.23522765, -3.55821754, -1.9480658 , -6.19386143,\n",
       "       -2.07974775, -3.80065091,  1.54361537, -5.41993567,  2.1554017 ,\n",
       "       -3.8674556 , -0.32408162, -4.10676648, -0.43264099, -1.86123564])"
      ]
     },
     "execution_count": 5,
     "metadata": {},
     "output_type": "execute_result"
    }
   ],
   "source": [
    "y = np.dot(true_w,X)+true_b\n",
    "y += np.random.normal(scale=0.5, size=200)\n",
    "y"
   ]
  },
  {
   "cell_type": "code",
   "execution_count": 6,
   "metadata": {},
   "outputs": [
    {
     "data": {
      "text/plain": [
       "<matplotlib.collections.PathCollection at 0x7f467c128710>"
      ]
     },
     "execution_count": 6,
     "metadata": {},
     "output_type": "execute_result"
    },
    {
     "data": {
      "image/png": "[encoded data removed]",
      "text/plain": [
       "<Figure size 432x288 with 1 Axes>"
      ]
     },
     "metadata": {
      "needs_background": "light"
     },
     "output_type": "display_data"
    }
   ],
   "source": [
    "plt.scatter(X,y)"
   ]
  },
  {
   "cell_type": "markdown",
   "metadata": {},
   "source": [
    "## scikit-learn 사용순서"
   ]
  },
  {
   "cell_type": "code",
   "execution_count": 7,
   "metadata": {},
   "outputs": [],
   "source": [
    "from sklearn.linear_model import LinearRegression"
   ]
  },
  {
   "cell_type": "code",
   "execution_count": 8,
   "metadata": {},
   "outputs": [],
   "source": [
    "# 학습할 객체를 생성한다\n",
    "reg=LinearRegression()"
   ]
  },
  {
   "cell_type": "code",
   "execution_count": 9,
   "metadata": {
    "collapsed": true,
    "jupyter": {
     "outputs_hidden": true
    }
   },
   "outputs": [
    {
     "ename": "ValueError",
     "evalue": "Expected 2D array, got 1D array instead:\narray=[ 5.75527331e-01  7.54142572e-01  3.28086042e-01 -7.91109860e-01\n  8.05721871e-01 -4.86009026e-01  5.26400083e-01 -5.55823344e-01\n  2.19767092e+00 -1.37610221e+00  5.00177324e-01 -1.10751822e-01\n -5.46507358e-01  1.41740852e+00  7.44649105e-01 -7.80682769e-01\n  1.48852898e-01 -9.14998334e-02  9.00296403e-01  1.28228805e-01\n -1.99921116e-01 -2.72329479e+00 -1.15194672e-01  6.75990151e-01\n -7.97793604e-02  1.47734762e+00  2.48988298e-01  4.81377316e-01\n -7.16268144e-01 -1.70954470e+00 -2.52863338e-01 -9.14813843e-02\n -1.26496900e-01 -6.52660209e-01  3.09644910e-01 -9.46592714e-01\n  3.35125437e-01 -3.62126747e-01  7.05230061e-01 -1.96038908e+00\n -8.20924021e-01 -1.58517487e+00  3.12602961e-01  1.07239273e-01\n -2.17694964e+00 -1.59011661e+00 -2.22972583e+00 -5.77266809e-01\n  2.89512163e-02 -2.90003257e-01  7.63119640e-01  8.47230978e-01\n  9.28489527e-02  3.38640055e-01 -7.50904747e-03 -1.16572086e-01\n -4.29433126e-01 -1.64923542e+00  4.45856699e-01  8.16042800e-01\n -9.14003369e-01  1.01902940e+00 -8.93659670e-01 -1.06116250e+00\n  1.95846359e+00  1.13211858e+00 -6.71488671e-01 -5.99317716e-01\n -5.28511834e-01  9.72309049e-01  1.74662331e-01 -1.23052624e-01\n  1.14490184e+00  1.94635376e-01  9.70497676e-01 -1.46128395e-01\n -3.88179737e-01  3.69241356e-01  6.84592721e-01 -5.48135743e-01\n -6.19765045e-01 -2.73313576e-01 -6.62415375e-01  8.24596760e-01\n  1.91089697e+00 -3.10481255e-01 -4.41318139e-01  3.44002121e-01\n -3.22266033e-01  3.68727666e-01 -6.50378876e-01 -2.68155416e-01\n -1.68951717e-01 -1.07492049e+00 -3.45969322e-01  1.03572832e+00\n -8.07691967e-01  5.35771364e-02 -8.37336752e-01 -1.22594740e+00\n  5.24795295e-01  1.32235459e+00  3.37914238e-02  1.13622683e+00\n  2.77958718e-01  2.21565069e-01  5.06762198e-01 -2.70075837e+00\n -2.79069386e-01 -1.72051918e-01  3.59952080e-01  1.33934315e-01\n -7.98201623e-01 -1.85726206e-01 -9.06014719e-01  2.08592813e+00\n -8.20250783e-01 -2.78870481e-01  6.30371382e-01  1.12754880e+00\n  9.83106891e-01  9.06948095e-01 -8.71936741e-01  8.29193377e-02\n -7.35908260e-01  9.66474351e-01  5.11380613e-01 -8.61690631e-01\n  4.99623180e-01 -6.72661085e-02 -1.43341361e+00 -1.56128616e+00\n  4.65445340e-01 -1.21456136e+00  4.06873930e-01 -3.17542347e-01\n  5.77240140e-01 -5.08722214e-01  7.83002856e-02 -1.79926674e-01\n  2.71847921e-01  2.17899130e+00  1.09967668e+00  4.12516134e-01\n -1.58790695e-01 -3.29355468e-01  6.92670302e-02 -4.41706042e-01\n  1.21567354e+00 -5.26872453e-01 -2.25688197e-01 -1.91954743e+00\n -1.84845770e+00 -1.20222087e+00 -3.25984451e-01 -4.14381104e-01\n  8.56672792e-01  8.29010871e-01 -1.06683019e-01  6.87114802e-01\n -5.02606381e-01 -2.29276800e-01 -7.74214516e-01  1.00610140e+00\n -1.61443922e+00 -6.84517508e-02 -6.11972844e-01  5.10905969e-01\n -8.80808091e-01  1.70301256e+00  3.23554303e-01  1.20584471e+00\n -3.51174998e-01 -2.08008425e-01 -2.43829134e-03  1.50699741e-01\n -1.38264811e+00 -1.11851892e+00  5.71830037e-01 -2.61604322e-01\n -1.14970783e+00  1.11639443e-01  3.50630627e-01 -2.95925970e-01\n  2.07353724e-02  2.83015211e+00 -7.68831067e-01 -2.20888711e-01\n  3.33266381e-01 -1.35094950e+00  3.21864831e-01 -2.70182910e-01\n  2.22259412e+00 -7.66823230e-01  2.51503046e+00 -5.23683069e-01\n  1.21592660e+00 -3.81947929e-01  1.57867250e+00  7.50248505e-01].\nReshape your data either using array.reshape(-1, 1) if your data has a single feature or array.reshape(1, -1) if it contains a single sample.",
     "output_type": "error",
     "traceback": [
      "\u001b[0;31m---------------------------------------------------------------------------\u001b[0m",
      "\u001b[0;31mValueError\u001b[0m                                Traceback (most recent call last)",
      "\u001b[0;32m<ipython-input-9-46d5293be80c>\u001b[0m in \u001b[0;36m<module>\u001b[0;34m\u001b[0m\n\u001b[1;32m      1\u001b[0m \u001b[0;31m# 학습한다.\u001b[0m\u001b[0;34m\u001b[0m\u001b[0;34m\u001b[0m\u001b[0;34m\u001b[0m\u001b[0m\n\u001b[0;32m----> 2\u001b[0;31m \u001b[0mreg\u001b[0m\u001b[0;34m.\u001b[0m\u001b[0mfit\u001b[0m\u001b[0;34m(\u001b[0m\u001b[0mX\u001b[0m\u001b[0;34m,\u001b[0m\u001b[0my\u001b[0m\u001b[0;34m)\u001b[0m \u001b[0;31m#에러가 날 것이다.\u001b[0m\u001b[0;34m\u001b[0m\u001b[0;34m\u001b[0m\u001b[0m\n\u001b[0m",
      "\u001b[0;32m/opt/tljh/user/lib/python3.6/site-packages/sklearn/linear_model/base.py\u001b[0m in \u001b[0;36mfit\u001b[0;34m(self, X, y, sample_weight)\u001b[0m\n\u001b[1;32m    461\u001b[0m         \u001b[0mn_jobs_\u001b[0m \u001b[0;34m=\u001b[0m \u001b[0mself\u001b[0m\u001b[0;34m.\u001b[0m\u001b[0mn_jobs\u001b[0m\u001b[0;34m\u001b[0m\u001b[0;34m\u001b[0m\u001b[0m\n\u001b[1;32m    462\u001b[0m         X, y = check_X_y(X, y, accept_sparse=['csr', 'csc', 'coo'],\n\u001b[0;32m--> 463\u001b[0;31m                          y_numeric=True, multi_output=True)\n\u001b[0m\u001b[1;32m    464\u001b[0m \u001b[0;34m\u001b[0m\u001b[0m\n\u001b[1;32m    465\u001b[0m         \u001b[0;32mif\u001b[0m \u001b[0msample_weight\u001b[0m \u001b[0;32mis\u001b[0m \u001b[0;32mnot\u001b[0m \u001b[0;32mNone\u001b[0m \u001b[0;32mand\u001b[0m \u001b[0mnp\u001b[0m\u001b[0;34m.\u001b[0m\u001b[0matleast_1d\u001b[0m\u001b[0;34m(\u001b[0m\u001b[0msample_weight\u001b[0m\u001b[0;34m)\u001b[0m\u001b[0;34m.\u001b[0m\u001b[0mndim\u001b[0m \u001b[0;34m>\u001b[0m \u001b[0;36m1\u001b[0m\u001b[0;34m:\u001b[0m\u001b[0;34m\u001b[0m\u001b[0;34m\u001b[0m\u001b[0m\n",
      "\u001b[0;32m/opt/tljh/user/lib/python3.6/site-packages/sklearn/utils/validation.py\u001b[0m in \u001b[0;36mcheck_X_y\u001b[0;34m(X, y, accept_sparse, accept_large_sparse, dtype, order, copy, force_all_finite, ensure_2d, allow_nd, multi_output, ensure_min_samples, ensure_min_features, y_numeric, warn_on_dtype, estimator)\u001b[0m\n\u001b[1;32m    717\u001b[0m                     \u001b[0mensure_min_features\u001b[0m\u001b[0;34m=\u001b[0m\u001b[0mensure_min_features\u001b[0m\u001b[0;34m,\u001b[0m\u001b[0;34m\u001b[0m\u001b[0;34m\u001b[0m\u001b[0m\n\u001b[1;32m    718\u001b[0m                     \u001b[0mwarn_on_dtype\u001b[0m\u001b[0;34m=\u001b[0m\u001b[0mwarn_on_dtype\u001b[0m\u001b[0;34m,\u001b[0m\u001b[0;34m\u001b[0m\u001b[0;34m\u001b[0m\u001b[0m\n\u001b[0;32m--> 719\u001b[0;31m                     estimator=estimator)\n\u001b[0m\u001b[1;32m    720\u001b[0m     \u001b[0;32mif\u001b[0m \u001b[0mmulti_output\u001b[0m\u001b[0;34m:\u001b[0m\u001b[0;34m\u001b[0m\u001b[0;34m\u001b[0m\u001b[0m\n\u001b[1;32m    721\u001b[0m         y = check_array(y, 'csr', force_all_finite=True, ensure_2d=False,\n",
      "\u001b[0;32m/opt/tljh/user/lib/python3.6/site-packages/sklearn/utils/validation.py\u001b[0m in \u001b[0;36mcheck_array\u001b[0;34m(array, accept_sparse, accept_large_sparse, dtype, order, copy, force_all_finite, ensure_2d, allow_nd, ensure_min_samples, ensure_min_features, warn_on_dtype, estimator)\u001b[0m\n\u001b[1;32m    519\u001b[0m                     \u001b[0;34m\"Reshape your data either using array.reshape(-1, 1) if \"\u001b[0m\u001b[0;34m\u001b[0m\u001b[0;34m\u001b[0m\u001b[0m\n\u001b[1;32m    520\u001b[0m                     \u001b[0;34m\"your data has a single feature or array.reshape(1, -1) \"\u001b[0m\u001b[0;34m\u001b[0m\u001b[0;34m\u001b[0m\u001b[0m\n\u001b[0;32m--> 521\u001b[0;31m                     \"if it contains a single sample.\".format(array))\n\u001b[0m\u001b[1;32m    522\u001b[0m \u001b[0;34m\u001b[0m\u001b[0m\n\u001b[1;32m    523\u001b[0m         \u001b[0;31m# in the future np.flexible dtypes will be handled like object dtypes\u001b[0m\u001b[0;34m\u001b[0m\u001b[0;34m\u001b[0m\u001b[0;34m\u001b[0m\u001b[0m\n",
      "\u001b[0;31mValueError\u001b[0m: Expected 2D array, got 1D array instead:\narray=[ 5.75527331e-01  7.54142572e-01  3.28086042e-01 -7.91109860e-01\n  8.05721871e-01 -4.86009026e-01  5.26400083e-01 -5.55823344e-01\n  2.19767092e+00 -1.37610221e+00  5.00177324e-01 -1.10751822e-01\n -5.46507358e-01  1.41740852e+00  7.44649105e-01 -7.80682769e-01\n  1.48852898e-01 -9.14998334e-02  9.00296403e-01  1.28228805e-01\n -1.99921116e-01 -2.72329479e+00 -1.15194672e-01  6.75990151e-01\n -7.97793604e-02  1.47734762e+00  2.48988298e-01  4.81377316e-01\n -7.16268144e-01 -1.70954470e+00 -2.52863338e-01 -9.14813843e-02\n -1.26496900e-01 -6.52660209e-01  3.09644910e-01 -9.46592714e-01\n  3.35125437e-01 -3.62126747e-01  7.05230061e-01 -1.96038908e+00\n -8.20924021e-01 -1.58517487e+00  3.12602961e-01  1.07239273e-01\n -2.17694964e+00 -1.59011661e+00 -2.22972583e+00 -5.77266809e-01\n  2.89512163e-02 -2.90003257e-01  7.63119640e-01  8.47230978e-01\n  9.28489527e-02  3.38640055e-01 -7.50904747e-03 -1.16572086e-01\n -4.29433126e-01 -1.64923542e+00  4.45856699e-01  8.16042800e-01\n -9.14003369e-01  1.01902940e+00 -8.93659670e-01 -1.06116250e+00\n  1.95846359e+00  1.13211858e+00 -6.71488671e-01 -5.99317716e-01\n -5.28511834e-01  9.72309049e-01  1.74662331e-01 -1.23052624e-01\n  1.14490184e+00  1.94635376e-01  9.70497676e-01 -1.46128395e-01\n -3.88179737e-01  3.69241356e-01  6.84592721e-01 -5.48135743e-01\n -6.19765045e-01 -2.73313576e-01 -6.62415375e-01  8.24596760e-01\n  1.91089697e+00 -3.10481255e-01 -4.41318139e-01  3.44002121e-01\n -3.22266033e-01  3.68727666e-01 -6.50378876e-01 -2.68155416e-01\n -1.68951717e-01 -1.07492049e+00 -3.45969322e-01  1.03572832e+00\n -8.07691967e-01  5.35771364e-02 -8.37336752e-01 -1.22594740e+00\n  5.24795295e-01  1.32235459e+00  3.37914238e-02  1.13622683e+00\n  2.77958718e-01  2.21565069e-01  5.06762198e-01 -2.70075837e+00\n -2.79069386e-01 -1.72051918e-01  3.59952080e-01  1.33934315e-01\n -7.98201623e-01 -1.85726206e-01 -9.06014719e-01  2.08592813e+00\n -8.20250783e-01 -2.78870481e-01  6.30371382e-01  1.12754880e+00\n  9.83106891e-01  9.06948095e-01 -8.71936741e-01  8.29193377e-02\n -7.35908260e-01  9.66474351e-01  5.11380613e-01 -8.61690631e-01\n  4.99623180e-01 -6.72661085e-02 -1.43341361e+00 -1.56128616e+00\n  4.65445340e-01 -1.21456136e+00  4.06873930e-01 -3.17542347e-01\n  5.77240140e-01 -5.08722214e-01  7.83002856e-02 -1.79926674e-01\n  2.71847921e-01  2.17899130e+00  1.09967668e+00  4.12516134e-01\n -1.58790695e-01 -3.29355468e-01  6.92670302e-02 -4.41706042e-01\n  1.21567354e+00 -5.26872453e-01 -2.25688197e-01 -1.91954743e+00\n -1.84845770e+00 -1.20222087e+00 -3.25984451e-01 -4.14381104e-01\n  8.56672792e-01  8.29010871e-01 -1.06683019e-01  6.87114802e-01\n -5.02606381e-01 -2.29276800e-01 -7.74214516e-01  1.00610140e+00\n -1.61443922e+00 -6.84517508e-02 -6.11972844e-01  5.10905969e-01\n -8.80808091e-01  1.70301256e+00  3.23554303e-01  1.20584471e+00\n -3.51174998e-01 -2.08008425e-01 -2.43829134e-03  1.50699741e-01\n -1.38264811e+00 -1.11851892e+00  5.71830037e-01 -2.61604322e-01\n -1.14970783e+00  1.11639443e-01  3.50630627e-01 -2.95925970e-01\n  2.07353724e-02  2.83015211e+00 -7.68831067e-01 -2.20888711e-01\n  3.33266381e-01 -1.35094950e+00  3.21864831e-01 -2.70182910e-01\n  2.22259412e+00 -7.66823230e-01  2.51503046e+00 -5.23683069e-01\n  1.21592660e+00 -3.81947929e-01  1.57867250e+00  7.50248505e-01].\nReshape your data either using array.reshape(-1, 1) if your data has a single feature or array.reshape(1, -1) if it contains a single sample."
     ]
    }
   ],
   "source": [
    "# 학습한다.\n",
    "reg.fit(X,y) #에러가 날 것이다."
   ]
  },
  {
   "cell_type": "code",
   "execution_count": 10,
   "metadata": {},
   "outputs": [
    {
     "data": {
      "text/plain": [
       "array([[ 5.75527331e-01],\n",
       "       [ 7.54142572e-01],\n",
       "       [ 3.28086042e-01],\n",
       "       [-7.91109860e-01],\n",
       "       [ 8.05721871e-01],\n",
       "       [-4.86009026e-01],\n",
       "       [ 5.26400083e-01],\n",
       "       [-5.55823344e-01],\n",
       "       [ 2.19767092e+00],\n",
       "       [-1.37610221e+00],\n",
       "       [ 5.00177324e-01],\n",
       "       [-1.10751822e-01],\n",
       "       [-5.46507358e-01],\n",
       "       [ 1.41740852e+00],\n",
       "       [ 7.44649105e-01],\n",
       "       [-7.80682769e-01],\n",
       "       [ 1.48852898e-01],\n",
       "       [-9.14998334e-02],\n",
       "       [ 9.00296403e-01],\n",
       "       [ 1.28228805e-01],\n",
       "       [-1.99921116e-01],\n",
       "       [-2.72329479e+00],\n",
       "       [-1.15194672e-01],\n",
       "       [ 6.75990151e-01],\n",
       "       [-7.97793604e-02],\n",
       "       [ 1.47734762e+00],\n",
       "       [ 2.48988298e-01],\n",
       "       [ 4.81377316e-01],\n",
       "       [-7.16268144e-01],\n",
       "       [-1.70954470e+00],\n",
       "       [-2.52863338e-01],\n",
       "       [-9.14813843e-02],\n",
       "       [-1.26496900e-01],\n",
       "       [-6.52660209e-01],\n",
       "       [ 3.09644910e-01],\n",
       "       [-9.46592714e-01],\n",
       "       [ 3.35125437e-01],\n",
       "       [-3.62126747e-01],\n",
       "       [ 7.05230061e-01],\n",
       "       [-1.96038908e+00],\n",
       "       [-8.20924021e-01],\n",
       "       [-1.58517487e+00],\n",
       "       [ 3.12602961e-01],\n",
       "       [ 1.07239273e-01],\n",
       "       [-2.17694964e+00],\n",
       "       [-1.59011661e+00],\n",
       "       [-2.22972583e+00],\n",
       "       [-5.77266809e-01],\n",
       "       [ 2.89512163e-02],\n",
       "       [-2.90003257e-01],\n",
       "       [ 7.63119640e-01],\n",
       "       [ 8.47230978e-01],\n",
       "       [ 9.28489527e-02],\n",
       "       [ 3.38640055e-01],\n",
       "       [-7.50904747e-03],\n",
       "       [-1.16572086e-01],\n",
       "       [-4.29433126e-01],\n",
       "       [-1.64923542e+00],\n",
       "       [ 4.45856699e-01],\n",
       "       [ 8.16042800e-01],\n",
       "       [-9.14003369e-01],\n",
       "       [ 1.01902940e+00],\n",
       "       [-8.93659670e-01],\n",
       "       [-1.06116250e+00],\n",
       "       [ 1.95846359e+00],\n",
       "       [ 1.13211858e+00],\n",
       "       [-6.71488671e-01],\n",
       "       [-5.99317716e-01],\n",
       "       [-5.28511834e-01],\n",
       "       [ 9.72309049e-01],\n",
       "       [ 1.74662331e-01],\n",
       "       [-1.23052624e-01],\n",
       "       [ 1.14490184e+00],\n",
       "       [ 1.94635376e-01],\n",
       "       [ 9.70497676e-01],\n",
       "       [-1.46128395e-01],\n",
       "       [-3.88179737e-01],\n",
       "       [ 3.69241356e-01],\n",
       "       [ 6.84592721e-01],\n",
       "       [-5.48135743e-01],\n",
       "       [-6.19765045e-01],\n",
       "       [-2.73313576e-01],\n",
       "       [-6.62415375e-01],\n",
       "       [ 8.24596760e-01],\n",
       "       [ 1.91089697e+00],\n",
       "       [-3.10481255e-01],\n",
       "       [-4.41318139e-01],\n",
       "       [ 3.44002121e-01],\n",
       "       [-3.22266033e-01],\n",
       "       [ 3.68727666e-01],\n",
       "       [-6.50378876e-01],\n",
       "       [-2.68155416e-01],\n",
       "       [-1.68951717e-01],\n",
       "       [-1.07492049e+00],\n",
       "       [-3.45969322e-01],\n",
       "       [ 1.03572832e+00],\n",
       "       [-8.07691967e-01],\n",
       "       [ 5.35771364e-02],\n",
       "       [-8.37336752e-01],\n",
       "       [-1.22594740e+00],\n",
       "       [ 5.24795295e-01],\n",
       "       [ 1.32235459e+00],\n",
       "       [ 3.37914238e-02],\n",
       "       [ 1.13622683e+00],\n",
       "       [ 2.77958718e-01],\n",
       "       [ 2.21565069e-01],\n",
       "       [ 5.06762198e-01],\n",
       "       [-2.70075837e+00],\n",
       "       [-2.79069386e-01],\n",
       "       [-1.72051918e-01],\n",
       "       [ 3.59952080e-01],\n",
       "       [ 1.33934315e-01],\n",
       "       [-7.98201623e-01],\n",
       "       [-1.85726206e-01],\n",
       "       [-9.06014719e-01],\n",
       "       [ 2.08592813e+00],\n",
       "       [-8.20250783e-01],\n",
       "       [-2.78870481e-01],\n",
       "       [ 6.30371382e-01],\n",
       "       [ 1.12754880e+00],\n",
       "       [ 9.83106891e-01],\n",
       "       [ 9.06948095e-01],\n",
       "       [-8.71936741e-01],\n",
       "       [ 8.29193377e-02],\n",
       "       [-7.35908260e-01],\n",
       "       [ 9.66474351e-01],\n",
       "       [ 5.11380613e-01],\n",
       "       [-8.61690631e-01],\n",
       "       [ 4.99623180e-01],\n",
       "       [-6.72661085e-02],\n",
       "       [-1.43341361e+00],\n",
       "       [-1.56128616e+00],\n",
       "       [ 4.65445340e-01],\n",
       "       [-1.21456136e+00],\n",
       "       [ 4.06873930e-01],\n",
       "       [-3.17542347e-01],\n",
       "       [ 5.77240140e-01],\n",
       "       [-5.08722214e-01],\n",
       "       [ 7.83002856e-02],\n",
       "       [-1.79926674e-01],\n",
       "       [ 2.71847921e-01],\n",
       "       [ 2.17899130e+00],\n",
       "       [ 1.09967668e+00],\n",
       "       [ 4.12516134e-01],\n",
       "       [-1.58790695e-01],\n",
       "       [-3.29355468e-01],\n",
       "       [ 6.92670302e-02],\n",
       "       [-4.41706042e-01],\n",
       "       [ 1.21567354e+00],\n",
       "       [-5.26872453e-01],\n",
       "       [-2.25688197e-01],\n",
       "       [-1.91954743e+00],\n",
       "       [-1.84845770e+00],\n",
       "       [-1.20222087e+00],\n",
       "       [-3.25984451e-01],\n",
       "       [-4.14381104e-01],\n",
       "       [ 8.56672792e-01],\n",
       "       [ 8.29010871e-01],\n",
       "       [-1.06683019e-01],\n",
       "       [ 6.87114802e-01],\n",
       "       [-5.02606381e-01],\n",
       "       [-2.29276800e-01],\n",
       "       [-7.74214516e-01],\n",
       "       [ 1.00610140e+00],\n",
       "       [-1.61443922e+00],\n",
       "       [-6.84517508e-02],\n",
       "       [-6.11972844e-01],\n",
       "       [ 5.10905969e-01],\n",
       "       [-8.80808091e-01],\n",
       "       [ 1.70301256e+00],\n",
       "       [ 3.23554303e-01],\n",
       "       [ 1.20584471e+00],\n",
       "       [-3.51174998e-01],\n",
       "       [-2.08008425e-01],\n",
       "       [-2.43829134e-03],\n",
       "       [ 1.50699741e-01],\n",
       "       [-1.38264811e+00],\n",
       "       [-1.11851892e+00],\n",
       "       [ 5.71830037e-01],\n",
       "       [-2.61604322e-01],\n",
       "       [-1.14970783e+00],\n",
       "       [ 1.11639443e-01],\n",
       "       [ 3.50630627e-01],\n",
       "       [-2.95925970e-01],\n",
       "       [ 2.07353724e-02],\n",
       "       [ 2.83015211e+00],\n",
       "       [-7.68831067e-01],\n",
       "       [-2.20888711e-01],\n",
       "       [ 3.33266381e-01],\n",
       "       [-1.35094950e+00],\n",
       "       [ 3.21864831e-01],\n",
       "       [-2.70182910e-01],\n",
       "       [ 2.22259412e+00],\n",
       "       [-7.66823230e-01],\n",
       "       [ 2.51503046e+00],\n",
       "       [-5.23683069e-01],\n",
       "       [ 1.21592660e+00],\n",
       "       [-3.81947929e-01],\n",
       "       [ 1.57867250e+00],\n",
       "       [ 7.50248505e-01]])"
      ]
     },
     "execution_count": 10,
     "metadata": {},
     "output_type": "execute_result"
    }
   ],
   "source": [
    "X=X.reshape(-1,1) # 1차원 데이터만 있을때는 reshape 필요\n",
    "X"
   ]
  },
  {
   "cell_type": "code",
   "execution_count": 11,
   "metadata": {},
   "outputs": [
    {
     "data": {
      "text/plain": [
       "LinearRegression(copy_X=True, fit_intercept=True, n_jobs=None, normalize=False)"
      ]
     },
     "execution_count": 11,
     "metadata": {},
     "output_type": "execute_result"
    }
   ],
   "source": [
    "# 학습하기.\n",
    "reg.fit(X,y)"
   ]
  },
  {
   "cell_type": "code",
   "execution_count": 12,
   "metadata": {},
   "outputs": [
    {
     "name": "stdout",
     "output_type": "stream",
     "text": [
      "estimated_w: 2.053135, estimated_b: -2.977591\n"
     ]
    }
   ],
   "source": [
    "# 학습결과 파악하기\n",
    "print('estimated_w: %f, estimated_b: %f' % (reg.coef_, reg.intercept_))"
   ]
  },
  {
   "cell_type": "code",
   "execution_count": 13,
   "metadata": {},
   "outputs": [
    {
     "data": {
      "text/plain": [
       "array([-1.79595559, -1.42923445, -2.30398588, -4.60184578, -1.3233352 ,\n",
       "       -3.97543268, -1.89682045, -4.11877088,  1.53452363, -5.80291384,\n",
       "       -1.9506593 , -3.20497911, -4.0996439 , -0.06746015, -1.44872582,\n",
       "       -4.58043756, -2.67197566, -3.16545218, -1.12916096, -2.7143197 ,\n",
       "       -3.38805568, -8.56888163, -3.21410088, -1.58969189, -3.14138847,\n",
       "        0.05560289, -2.4663842 , -1.98925825, -4.44818566, -6.48751617,\n",
       "       -3.49675319, -3.16541431, -3.23730587, -4.31759   , -2.34184801,\n",
       "       -4.92107301, -2.28953305, -3.72108568, -1.52965842, -7.00253346,\n",
       "       -4.66305827, -6.23216818, -2.33577473, -2.75741404, -7.44716147,\n",
       "       -6.24231423, -7.55551809, -4.1627972 , -2.91814996, -3.57300644,\n",
       "       -1.41080332, -1.23811142, -2.7869593 , -2.28231707, -2.99300779,\n",
       "       -3.21692889, -3.85927474, -6.36369311, -2.06218686, -1.30214495,\n",
       "       -4.8541627 , -0.88538613, -4.81239435, -5.15630022,  1.04339877,\n",
       "       -0.65319882, -4.35624737, -4.20807068, -4.06269667, -0.98130929,\n",
       "       -2.61898542, -3.23023431, -0.62695305, -2.57797807, -0.98502829,\n",
       "       -3.27761198, -3.77457598, -2.21948848, -1.57202966, -4.1029872 ,\n",
       "       -4.2500518 , -3.53874028, -4.33761867, -1.28458251,  0.9457381 ,\n",
       "       -3.61505053, -3.88367627, -2.27130803, -3.63924627, -2.22054315,\n",
       "       -4.31290612, -3.52814988, -3.32447133, -5.18454722, -3.68791231,\n",
       "       -0.851101  , -4.63589108, -2.86758963, -4.69675581, -5.49462581,\n",
       "       -1.90011529, -0.26261866, -2.90821236, -0.64476402, -2.40690403,\n",
       "       -2.52268778, -1.93713967, -8.52261133, -3.55055773, -3.33083646,\n",
       "       -2.23856061, -2.70260552, -4.61640612, -3.35891162, -4.83776093,\n",
       "        1.30510063, -4.66167602, -3.55014935, -1.68335337, -0.66258119,\n",
       "       -0.95913987, -1.11550414, -4.76779425, -2.80734614, -4.48850946,\n",
       "       -0.99328872, -1.92765744, -4.7467576 , -1.95179704, -3.11569708,\n",
       "       -5.92058186, -6.18312143, -2.02196874, -5.47124872, -2.14222374,\n",
       "       -3.6295479 , -1.79243896, -4.02206592, -2.81682967, -3.3470044 ,\n",
       "       -2.41945032,  1.49617185, -0.7198064 , -2.13063953, -3.30360938,\n",
       "       -3.65380183, -2.83537616, -3.88447269, -0.48164922, -4.0593308 ,\n",
       "       -3.44095896, -6.91868006, -6.77272328, -5.44591203, -3.64688068,\n",
       "       -3.82837091, -1.2187261 , -1.27551975, -3.19662531, -1.56685149,\n",
       "       -4.00950929, -3.44832685, -4.56715736, -0.91192904, -6.29225183,\n",
       "       -3.11813137, -4.23405336, -1.92863195, -4.78600833,  0.51892341,\n",
       "       -2.31329015, -0.50182913, -3.69860026, -3.40466001, -2.98259684,\n",
       "       -2.66818384, -5.81635347, -5.27406066, -1.80354664, -3.5146996 ,\n",
       "       -5.33809571, -2.74837989, -2.25769881, -3.58516657, -2.93501819,\n",
       "        2.83309268, -4.55610442, -3.43110497, -2.29334995, -5.75127194,\n",
       "       -2.31675886, -3.5323126 ,  1.58569433, -4.55198206,  2.18610551,\n",
       "       -4.05278256, -0.48112965, -3.76178124,  0.26363653, -1.43722949])"
      ]
     },
     "execution_count": 13,
     "metadata": {},
     "output_type": "execute_result"
    }
   ],
   "source": [
    "# 예측하기\n",
    "y_hat = reg.predict(X)\n",
    "y_hat"
   ]
  },
  {
   "cell_type": "code",
   "execution_count": 14,
   "metadata": {},
   "outputs": [
    {
     "data": {
      "text/plain": [
       "[<matplotlib.lines.Line2D at 0x7f46796073c8>]"
      ]
     },
     "execution_count": 14,
     "metadata": {},
     "output_type": "execute_result"
    },
    {
     "data": {
      "image/png": "[encoded data removed]",
      "text/plain": [
       "<Figure size 432x288 with 1 Axes>"
      ]
     },
     "metadata": {
      "needs_background": "light"
     },
     "output_type": "display_data"
    }
   ],
   "source": [
    "# 확인해보기\n",
    "plt.scatter(X,y)\n",
    "plt.plot(X,y_hat,color='c')"
   ]
  },
  {
   "cell_type": "code",
   "execution_count": 15,
   "metadata": {},
   "outputs": [
    {
     "data": {
      "text/plain": [
       "array([ 0.08513882,  0.58414052, -0.45316836, -0.22285233, -0.68215565,\n",
       "        0.33305755, -0.22772808,  0.92623492,  0.30126391, -0.40501393,\n",
       "       -0.75277534,  0.14660599,  0.36032452, -0.02554318, -1.75296591,\n",
       "       -0.1378262 , -0.35777894, -0.3500274 , -0.43440962,  0.56119742,\n",
       "        0.0039272 ,  0.16124337, -0.20237287, -0.57069553,  0.30052663,\n",
       "        0.03809237,  0.41305862,  0.72431331, -0.01819366, -0.05836272,\n",
       "       -0.02974659, -0.98181707, -0.43125933, -0.11787289,  1.19541473,\n",
       "        0.05865161,  0.48873447,  0.14261595,  0.09912586, -0.66375219,\n",
       "        0.05528755,  0.02933989,  0.59729452, -0.95659087, -0.68217994,\n",
       "        0.0677873 , -0.675996  , -0.44758576, -0.05281117, -0.06422316,\n",
       "       -0.13244301,  0.02467011,  0.3092251 , -0.37110185,  0.73024959,\n",
       "        1.01763983, -0.15008478,  0.37558225,  0.81107867, -0.32704354,\n",
       "        0.8927679 ,  0.20506344,  0.29824574,  0.80424061, -0.67439742,\n",
       "        0.06636697,  0.29897461, -0.06541851, -0.15826237, -1.02841556,\n",
       "       -0.94828099, -0.20419973, -0.19803342, -0.47471374, -0.16853335,\n",
       "       -0.25258432, -0.18350803,  0.16224936, -0.32085894, -0.07883464,\n",
       "        0.73167662,  0.91278444, -0.29572484, -0.22333698, -0.36807227,\n",
       "        0.73572291, -0.83493335,  0.32547224, -0.03127588,  0.13934943,\n",
       "       -0.09232855,  1.16444441,  0.61600231,  0.09557397,  0.03077621,\n",
       "       -0.52811909, -0.70915541,  0.43992085, -0.41005891, -1.08415762,\n",
       "       -0.01637022, -0.38337079, -0.23151843,  0.12273161,  0.71671226,\n",
       "        0.4177738 ,  0.5896462 ,  0.33476984, -0.34804333,  0.83235384,\n",
       "        0.03837929, -0.32431804, -0.90746679,  0.5569684 ,  0.6373392 ,\n",
       "        0.59911322, -0.02412073,  0.76687522,  0.14478901, -0.45063884,\n",
       "        0.4750686 , -0.76843153, -0.5789013 ,  0.18746352, -0.01237891,\n",
       "       -0.36354246, -0.51199083,  0.37478095,  0.44455   ,  0.17384492,\n",
       "        0.13260404, -0.10579483, -0.05285619, -0.87037424, -0.54081658,\n",
       "       -0.71472534, -0.11146681,  0.7531477 , -0.51398202,  0.15021871,\n",
       "       -0.20882429,  0.24889368,  0.39427398,  0.29137218,  0.17927089,\n",
       "        0.25357803, -0.50866847, -0.12144218, -0.147253  , -0.44237995,\n",
       "        0.57363256, -0.68398124, -0.03223932,  0.14056817, -0.23661231,\n",
       "        0.79879959, -0.34651586, -0.06333721, -0.24080051,  0.44674499,\n",
       "        0.17156247, -0.0325989 , -0.1008309 ,  0.21338564, -0.91206631,\n",
       "       -0.47979459,  0.27587405, -0.37668304,  0.47697476,  0.76287765,\n",
       "       -0.04058038, -0.15813165, -0.24179888, -0.62348623,  0.48484596,\n",
       "        0.31999361,  0.56493108,  0.2885718 ,  0.21345624, -0.00383149,\n",
       "       -0.28871159, -0.71966498,  0.09097766,  0.2144302 , -0.61967821,\n",
       "       -0.18349729,  0.67912324,  0.12711257, -0.34528415,  0.44258949,\n",
       "       -0.23701111,  0.26833831,  0.04207896,  0.86795361,  0.0307038 ,\n",
       "       -0.18532696, -0.15704803,  0.34498525,  0.69627751,  0.42400615])"
      ]
     },
     "execution_count": 15,
     "metadata": {},
     "output_type": "execute_result"
    }
   ],
   "source": [
    "# y_hat과 y차이\n",
    "y_hat-y"
   ]
  },
  {
   "cell_type": "code",
   "execution_count": 16,
   "metadata": {},
   "outputs": [],
   "source": [
    "# 평가지표 RMSE from scratch\n",
    "def rmse(y,y_hat):\n",
    "    return np.sqrt(np.mean((y_hat-y)**2))    "
   ]
  },
  {
   "cell_type": "code",
   "execution_count": 17,
   "metadata": {},
   "outputs": [
    {
     "data": {
      "text/plain": [
       "0.48771105768630774"
      ]
     },
     "execution_count": 17,
     "metadata": {},
     "output_type": "execute_result"
    }
   ],
   "source": [
    "rmse(y,y_hat)"
   ]
  },
  {
   "cell_type": "code",
   "execution_count": 18,
   "metadata": {},
   "outputs": [
    {
     "name": "stdout",
     "output_type": "stream",
     "text": [
      "mse: 0.237862, rmse: 0.487711\n"
     ]
    }
   ],
   "source": [
    "from sklearn.metrics import mean_squared_error\n",
    "mse=mean_squared_error(y,y_hat)\n",
    "print('mse: %f, rmse: %f' % (mse, np.sqrt(mse)))"
   ]
  },
  {
   "cell_type": "markdown",
   "metadata": {},
   "source": [
    "## 데이터프레임으로 학습하기"
   ]
  },
  {
   "cell_type": "code",
   "execution_count": 4,
   "metadata": {},
   "outputs": [],
   "source": [
    "import pandas as pd\n",
    "df=pd.read_csv('https://raw.githubusercontent.com/ralbu85/DataSet/master/ch3_reg_data.csv')\n",
    "%matplotlib inline"
   ]
  },
  {
   "cell_type": "code",
   "execution_count": 5,
   "metadata": {},
   "outputs": [
    {
     "data": {
      "text/plain": [
       "<matplotlib.axes._subplots.AxesSubplot at 0x7f31bf5fa1d0>"
      ]
     },
     "execution_count": 5,
     "metadata": {},
     "output_type": "execute_result"
    },
    {
     "data": {
      "image/png": "[encoded data removed]",
      "text/plain": [
       "<Figure size 432x288 with 1 Axes>"
      ]
     },
     "metadata": {
      "needs_background": "light"
     },
     "output_type": "display_data"
    }
   ],
   "source": [
    "df.plot.scatter(x='X',y='y')"
   ]
  },
  {
   "cell_type": "code",
   "execution_count": 21,
   "metadata": {},
   "outputs": [],
   "source": [
    "# 데이터를 세팅한다.\n",
    "X = df['X']\n",
    "X = np.array(X).reshape(-1,1) #2차원을 \n",
    "y = df['y']"
   ]
  },
  {
   "cell_type": "code",
   "execution_count": 22,
   "metadata": {},
   "outputs": [
    {
     "data": {
      "text/plain": [
       "LinearRegression(copy_X=True, fit_intercept=True, n_jobs=None, normalize=False)"
      ]
     },
     "execution_count": 22,
     "metadata": {},
     "output_type": "execute_result"
    }
   ],
   "source": [
    "# 객체안의 fit을 통해 학습한다\n",
    "reg.fit(X,y)"
   ]
  },
  {
   "cell_type": "code",
   "execution_count": 23,
   "metadata": {},
   "outputs": [
    {
     "data": {
      "text/plain": [
       "0.24469717191802182"
      ]
     },
     "execution_count": 23,
     "metadata": {},
     "output_type": "execute_result"
    }
   ],
   "source": [
    "y_hat=reg.predict(X)\n",
    "from sklearn.metrics import mean_squared_error\n",
    "mse=mean_squared_error(y,y_hat)\n",
    "mse"
   ]
  },
  {
   "cell_type": "markdown",
   "metadata": {},
   "source": [
    "## Advertising 데이터 불러오기"
   ]
  },
  {
   "cell_type": "code",
   "execution_count": 19,
   "metadata": {},
   "outputs": [
    {
     "data": {
      "text/html": [
       "<div>\n",
       "<style scoped>\n",
       "    .dataframe tbody tr th:only-of-type {\n",
       "        vertical-align: middle;\n",
       "    }\n",
       "\n",
       "    .dataframe tbody tr th {\n",
       "        vertical-align: top;\n",
       "    }\n",
       "\n",
       "    .dataframe thead th {\n",
       "        text-align: right;\n",
       "    }\n",
       "</style>\n",
       "<table border=\"1\" class=\"dataframe\">\n",
       "  <thead>\n",
       "    <tr style=\"text-align: right;\">\n",
       "      <th></th>\n",
       "      <th>Unnamed: 0</th>\n",
       "      <th>TV</th>\n",
       "      <th>Radio</th>\n",
       "      <th>Newspaper</th>\n",
       "      <th>Sales</th>\n",
       "    </tr>\n",
       "  </thead>\n",
       "  <tbody>\n",
       "    <tr>\n",
       "      <td>0</td>\n",
       "      <td>1</td>\n",
       "      <td>230.1</td>\n",
       "      <td>37.8</td>\n",
       "      <td>69.2</td>\n",
       "      <td>22.1</td>\n",
       "    </tr>\n",
       "    <tr>\n",
       "      <td>1</td>\n",
       "      <td>2</td>\n",
       "      <td>44.5</td>\n",
       "      <td>39.3</td>\n",
       "      <td>45.1</td>\n",
       "      <td>10.4</td>\n",
       "    </tr>\n",
       "    <tr>\n",
       "      <td>2</td>\n",
       "      <td>3</td>\n",
       "      <td>17.2</td>\n",
       "      <td>45.9</td>\n",
       "      <td>69.3</td>\n",
       "      <td>9.3</td>\n",
       "    </tr>\n",
       "    <tr>\n",
       "      <td>3</td>\n",
       "      <td>4</td>\n",
       "      <td>151.5</td>\n",
       "      <td>41.3</td>\n",
       "      <td>58.5</td>\n",
       "      <td>18.5</td>\n",
       "    </tr>\n",
       "    <tr>\n",
       "      <td>4</td>\n",
       "      <td>5</td>\n",
       "      <td>180.8</td>\n",
       "      <td>10.8</td>\n",
       "      <td>58.4</td>\n",
       "      <td>12.9</td>\n",
       "    </tr>\n",
       "  </tbody>\n",
       "</table>\n",
       "</div>"
      ],
      "text/plain": [
       "   Unnamed: 0     TV  Radio  Newspaper  Sales\n",
       "0           1  230.1   37.8       69.2   22.1\n",
       "1           2   44.5   39.3       45.1   10.4\n",
       "2           3   17.2   45.9       69.3    9.3\n",
       "3           4  151.5   41.3       58.5   18.5\n",
       "4           5  180.8   10.8       58.4   12.9"
      ]
     },
     "execution_count": 19,
     "metadata": {},
     "output_type": "execute_result"
    }
   ],
   "source": [
    "df=pd.read_csv('https://raw.githubusercontent.com/ralbu85/DataSet/master/ch3_data.csv',index_col=None)\n",
    "df.head()"
   ]
  },
  {
   "cell_type": "code",
   "execution_count": 20,
   "metadata": {},
   "outputs": [
    {
     "data": {
      "text/html": [
       "<div>\n",
       "<style scoped>\n",
       "    .dataframe tbody tr th:only-of-type {\n",
       "        vertical-align: middle;\n",
       "    }\n",
       "\n",
       "    .dataframe tbody tr th {\n",
       "        vertical-align: top;\n",
       "    }\n",
       "\n",
       "    .dataframe thead th {\n",
       "        text-align: right;\n",
       "    }\n",
       "</style>\n",
       "<table border=\"1\" class=\"dataframe\">\n",
       "  <thead>\n",
       "    <tr style=\"text-align: right;\">\n",
       "      <th></th>\n",
       "      <th>TV</th>\n",
       "      <th>Radio</th>\n",
       "      <th>Newspaper</th>\n",
       "      <th>Sales</th>\n",
       "    </tr>\n",
       "  </thead>\n",
       "  <tbody>\n",
       "    <tr>\n",
       "      <td>0</td>\n",
       "      <td>230.1</td>\n",
       "      <td>37.8</td>\n",
       "      <td>69.2</td>\n",
       "      <td>22.1</td>\n",
       "    </tr>\n",
       "    <tr>\n",
       "      <td>1</td>\n",
       "      <td>44.5</td>\n",
       "      <td>39.3</td>\n",
       "      <td>45.1</td>\n",
       "      <td>10.4</td>\n",
       "    </tr>\n",
       "    <tr>\n",
       "      <td>2</td>\n",
       "      <td>17.2</td>\n",
       "      <td>45.9</td>\n",
       "      <td>69.3</td>\n",
       "      <td>9.3</td>\n",
       "    </tr>\n",
       "    <tr>\n",
       "      <td>3</td>\n",
       "      <td>151.5</td>\n",
       "      <td>41.3</td>\n",
       "      <td>58.5</td>\n",
       "      <td>18.5</td>\n",
       "    </tr>\n",
       "    <tr>\n",
       "      <td>4</td>\n",
       "      <td>180.8</td>\n",
       "      <td>10.8</td>\n",
       "      <td>58.4</td>\n",
       "      <td>12.9</td>\n",
       "    </tr>\n",
       "  </tbody>\n",
       "</table>\n",
       "</div>"
      ],
      "text/plain": [
       "      TV  Radio  Newspaper  Sales\n",
       "0  230.1   37.8       69.2   22.1\n",
       "1   44.5   39.3       45.1   10.4\n",
       "2   17.2   45.9       69.3    9.3\n",
       "3  151.5   41.3       58.5   18.5\n",
       "4  180.8   10.8       58.4   12.9"
      ]
     },
     "execution_count": 20,
     "metadata": {},
     "output_type": "execute_result"
    }
   ],
   "source": [
    "df=df.iloc[:,1:]\n",
    "df.head()"
   ]
  },
  {
   "cell_type": "code",
   "execution_count": 21,
   "metadata": {},
   "outputs": [],
   "source": [
    "from sklearn.linear_model import LinearRegression\n",
    "reg = LinearRegression()"
   ]
  },
  {
   "cell_type": "code",
   "execution_count": 22,
   "metadata": {},
   "outputs": [],
   "source": [
    "features=['TV','Radio','Newspaper']\n",
    "X=df[features]\n",
    "y=df['Sales']"
   ]
  },
  {
   "cell_type": "code",
   "execution_count": 23,
   "metadata": {},
   "outputs": [
    {
     "data": {
      "text/plain": [
       "LinearRegression(copy_X=True, fit_intercept=True, n_jobs=None, normalize=False)"
      ]
     },
     "execution_count": 23,
     "metadata": {},
     "output_type": "execute_result"
    }
   ],
   "source": [
    "reg.fit(X,y)"
   ]
  },
  {
   "cell_type": "code",
   "execution_count": 24,
   "metadata": {},
   "outputs": [
    {
     "name": "stdout",
     "output_type": "stream",
     "text": [
      "estimated_w: [ 0.04576465  0.18853002 -0.00103749], estimated_b: 2.9388893694594085\n"
     ]
    }
   ],
   "source": [
    "# 학습결과 파악하기\n",
    "print('estimated_w: {}, estimated_b: {}'.format(reg.coef_, reg.intercept_))"
   ]
  },
  {
   "cell_type": "code",
   "execution_count": 25,
   "metadata": {},
   "outputs": [
    {
     "data": {
      "text/plain": [
       "[('TV', 0.0457646454553976),\n",
       " ('Radio', 0.18853001691820453),\n",
       " ('Newspaper', -0.00103749304247629)]"
      ]
     },
     "execution_count": 25,
     "metadata": {},
     "output_type": "execute_result"
    }
   ],
   "source": [
    "list(zip(features, reg.coef_))"
   ]
  },
  {
   "cell_type": "code",
   "execution_count": 26,
   "metadata": {},
   "outputs": [
    {
     "data": {
      "text/plain": [
       "2.784126314510936"
      ]
     },
     "execution_count": 26,
     "metadata": {},
     "output_type": "execute_result"
    }
   ],
   "source": [
    "# mse 구하기\n",
    "mean_squared_error(reg.predict(X),y)"
   ]
  },
  {
   "cell_type": "code",
   "execution_count": 28,
   "metadata": {},
   "outputs": [],
   "source": [
    "# Todo: Standardize후 회귀식 구하기 (어떤것이 영향이 제일 큰가?)\n",
    "# MSE 차이가 있는가?"
   ]
  },
  {
   "cell_type": "code",
   "execution_count": 29,
   "metadata": {},
   "outputs": [],
   "source": [
    "# 데이터 읽어들이기\n",
    "# Dummy 사용할것\n",
    "# 표준화 할것\n",
    "# MSE 구할것\n",
    "# "
   ]
  }
 ],
 "metadata": {
  "kernelspec": {
   "display_name": "Python 3",
   "language": "python",
   "name": "python3"
  },
  "language_info": {
   "codemirror_mode": {
    "name": "ipython",
    "version": 3
   },
   "file_extension": ".py",
   "mimetype": "text/x-python",
   "name": "python",
   "nbconvert_exporter": "python",
   "pygments_lexer": "ipython3",
   "version": "3.6.8"
  }
 },
 "nbformat": 4,
 "nbformat_minor": 4
}
